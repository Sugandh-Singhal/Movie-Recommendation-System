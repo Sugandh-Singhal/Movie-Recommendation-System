{
 "cells": [
  {
   "cell_type": "code",
   "execution_count": 1,
   "id": "90d4aac6",
   "metadata": {},
   "outputs": [],
   "source": [
    "# importing the libraries\n",
    "import numpy as np\n",
    "import pandas as pd\n",
    "import warnings\n",
    "warnings.filterwarnings('ignore')\n",
    "import ast\n",
    "from sklearn.feature_extraction.text import CountVectorizer\n",
    "from sklearn.metrics.pairwise import cosine_similarity"
   ]
  },
  {
   "cell_type": "code",
   "execution_count": 2,
   "id": "df10f8c1",
   "metadata": {},
   "outputs": [],
   "source": [
    "# loading the datasets\n",
    "movies = pd.read_csv('movies_metadata.csv')\n",
    "credits = pd.read_csv('credits.csv')"
   ]
  },
  {
   "cell_type": "code",
   "execution_count": 54,
   "id": "92563b88",
   "metadata": {
    "scrolled": false
   },
   "outputs": [
    {
     "data": {
      "text/html": [
       "<div>\n",
       "<style scoped>\n",
       "    .dataframe tbody tr th:only-of-type {\n",
       "        vertical-align: middle;\n",
       "    }\n",
       "\n",
       "    .dataframe tbody tr th {\n",
       "        vertical-align: top;\n",
       "    }\n",
       "\n",
       "    .dataframe thead th {\n",
       "        text-align: right;\n",
       "    }\n",
       "</style>\n",
       "<table border=\"1\" class=\"dataframe\">\n",
       "  <thead>\n",
       "    <tr style=\"text-align: right;\">\n",
       "      <th></th>\n",
       "      <th>adult</th>\n",
       "      <th>belongs_to_collection</th>\n",
       "      <th>budget</th>\n",
       "      <th>genres</th>\n",
       "      <th>homepage</th>\n",
       "      <th>id</th>\n",
       "      <th>imdb_id</th>\n",
       "      <th>original_language</th>\n",
       "      <th>original_title</th>\n",
       "      <th>overview</th>\n",
       "      <th>...</th>\n",
       "      <th>release_date</th>\n",
       "      <th>revenue</th>\n",
       "      <th>runtime</th>\n",
       "      <th>spoken_languages</th>\n",
       "      <th>status</th>\n",
       "      <th>tagline</th>\n",
       "      <th>title</th>\n",
       "      <th>video</th>\n",
       "      <th>vote_average</th>\n",
       "      <th>vote_count</th>\n",
       "    </tr>\n",
       "  </thead>\n",
       "  <tbody>\n",
       "    <tr>\n",
       "      <th>42682</th>\n",
       "      <td>False</td>\n",
       "      <td>NaN</td>\n",
       "      <td>3000000</td>\n",
       "      <td>[{'id': 28, 'name': 'Action'}, {'id': 18, 'nam...</td>\n",
       "      <td>NaN</td>\n",
       "      <td>51021</td>\n",
       "      <td>tt1196197</td>\n",
       "      <td>en</td>\n",
       "      <td>Lure: Teen Fight Club</td>\n",
       "      <td>A community is under siege as three Belmont Hi...</td>\n",
       "      <td>...</td>\n",
       "      <td>2010-11-16</td>\n",
       "      <td>0.0</td>\n",
       "      <td>93.0</td>\n",
       "      <td>[]</td>\n",
       "      <td>Released</td>\n",
       "      <td>High School Can Be Brutal</td>\n",
       "      <td>Lure: Teen Fight Club</td>\n",
       "      <td>False</td>\n",
       "      <td>3.0</td>\n",
       "      <td>5.0</td>\n",
       "    </tr>\n",
       "    <tr>\n",
       "      <th>24082</th>\n",
       "      <td>False</td>\n",
       "      <td>NaN</td>\n",
       "      <td>50000000</td>\n",
       "      <td>[{'id': 28, 'name': 'Action'}, {'id': 53, 'nam...</td>\n",
       "      <td>NaN</td>\n",
       "      <td>216282</td>\n",
       "      <td>tt2106361</td>\n",
       "      <td>en</td>\n",
       "      <td>Into the Storm</td>\n",
       "      <td>The town of Silverton is in one day destroyed ...</td>\n",
       "      <td>...</td>\n",
       "      <td>2014-08-06</td>\n",
       "      <td>160602194.0</td>\n",
       "      <td>89.0</td>\n",
       "      <td>[{'iso_639_1': 'en', 'name': 'English'}]</td>\n",
       "      <td>Released</td>\n",
       "      <td>Prepare to go</td>\n",
       "      <td>Into the Storm</td>\n",
       "      <td>False</td>\n",
       "      <td>5.8</td>\n",
       "      <td>829.0</td>\n",
       "    </tr>\n",
       "    <tr>\n",
       "      <th>5660</th>\n",
       "      <td>False</td>\n",
       "      <td>NaN</td>\n",
       "      <td>0</td>\n",
       "      <td>[{'id': 35, 'name': 'Comedy'}]</td>\n",
       "      <td>NaN</td>\n",
       "      <td>39497</td>\n",
       "      <td>tt0180679</td>\n",
       "      <td>en</td>\n",
       "      <td>Escanaba in da Moonlight</td>\n",
       "      <td>A macho man in a family on the eve of deer-hun...</td>\n",
       "      <td>...</td>\n",
       "      <td>2001-01-26</td>\n",
       "      <td>0.0</td>\n",
       "      <td>91.0</td>\n",
       "      <td>[]</td>\n",
       "      <td>Released</td>\n",
       "      <td>NaN</td>\n",
       "      <td>Escanaba in da Moonlight</td>\n",
       "      <td>False</td>\n",
       "      <td>4.4</td>\n",
       "      <td>4.0</td>\n",
       "    </tr>\n",
       "    <tr>\n",
       "      <th>375</th>\n",
       "      <td>False</td>\n",
       "      <td>NaN</td>\n",
       "      <td>115000000</td>\n",
       "      <td>[{'id': 28, 'name': 'Action'}, {'id': 53, 'nam...</td>\n",
       "      <td>NaN</td>\n",
       "      <td>36955</td>\n",
       "      <td>tt0111503</td>\n",
       "      <td>en</td>\n",
       "      <td>True Lies</td>\n",
       "      <td>Harry Tasker is a secret agent for the United ...</td>\n",
       "      <td>...</td>\n",
       "      <td>1994-07-14</td>\n",
       "      <td>378882411.0</td>\n",
       "      <td>141.0</td>\n",
       "      <td>[{'iso_639_1': 'en', 'name': 'English'}, {'iso...</td>\n",
       "      <td>Released</td>\n",
       "      <td>When he said I do, he never said what he did.</td>\n",
       "      <td>True Lies</td>\n",
       "      <td>False</td>\n",
       "      <td>6.8</td>\n",
       "      <td>1138.0</td>\n",
       "    </tr>\n",
       "    <tr>\n",
       "      <th>26882</th>\n",
       "      <td>False</td>\n",
       "      <td>NaN</td>\n",
       "      <td>0</td>\n",
       "      <td>[{'id': 35, 'name': 'Comedy'}]</td>\n",
       "      <td>NaN</td>\n",
       "      <td>43131</td>\n",
       "      <td>tt0023498</td>\n",
       "      <td>en</td>\n",
       "      <td>Speak Easily</td>\n",
       "      <td>A professor gets mixed up with chorus girls in...</td>\n",
       "      <td>...</td>\n",
       "      <td>1932-08-13</td>\n",
       "      <td>0.0</td>\n",
       "      <td>81.0</td>\n",
       "      <td>[{'iso_639_1': 'en', 'name': 'English'}]</td>\n",
       "      <td>Released</td>\n",
       "      <td>NaN</td>\n",
       "      <td>Speak Easily</td>\n",
       "      <td>False</td>\n",
       "      <td>0.0</td>\n",
       "      <td>0.0</td>\n",
       "    </tr>\n",
       "  </tbody>\n",
       "</table>\n",
       "<p>5 rows × 24 columns</p>\n",
       "</div>"
      ],
      "text/plain": [
       "       adult belongs_to_collection     budget  \\\n",
       "42682  False                   NaN    3000000   \n",
       "24082  False                   NaN   50000000   \n",
       "5660   False                   NaN          0   \n",
       "375    False                   NaN  115000000   \n",
       "26882  False                   NaN          0   \n",
       "\n",
       "                                                  genres homepage      id  \\\n",
       "42682  [{'id': 28, 'name': 'Action'}, {'id': 18, 'nam...      NaN   51021   \n",
       "24082  [{'id': 28, 'name': 'Action'}, {'id': 53, 'nam...      NaN  216282   \n",
       "5660                      [{'id': 35, 'name': 'Comedy'}]      NaN   39497   \n",
       "375    [{'id': 28, 'name': 'Action'}, {'id': 53, 'nam...      NaN   36955   \n",
       "26882                     [{'id': 35, 'name': 'Comedy'}]      NaN   43131   \n",
       "\n",
       "         imdb_id original_language            original_title  \\\n",
       "42682  tt1196197                en     Lure: Teen Fight Club   \n",
       "24082  tt2106361                en            Into the Storm   \n",
       "5660   tt0180679                en  Escanaba in da Moonlight   \n",
       "375    tt0111503                en                 True Lies   \n",
       "26882  tt0023498                en              Speak Easily   \n",
       "\n",
       "                                                overview  ... release_date  \\\n",
       "42682  A community is under siege as three Belmont Hi...  ...   2010-11-16   \n",
       "24082  The town of Silverton is in one day destroyed ...  ...   2014-08-06   \n",
       "5660   A macho man in a family on the eve of deer-hun...  ...   2001-01-26   \n",
       "375    Harry Tasker is a secret agent for the United ...  ...   1994-07-14   \n",
       "26882  A professor gets mixed up with chorus girls in...  ...   1932-08-13   \n",
       "\n",
       "           revenue runtime                                   spoken_languages  \\\n",
       "42682          0.0    93.0                                                 []   \n",
       "24082  160602194.0    89.0           [{'iso_639_1': 'en', 'name': 'English'}]   \n",
       "5660           0.0    91.0                                                 []   \n",
       "375    378882411.0   141.0  [{'iso_639_1': 'en', 'name': 'English'}, {'iso...   \n",
       "26882          0.0    81.0           [{'iso_639_1': 'en', 'name': 'English'}]   \n",
       "\n",
       "         status                                        tagline  \\\n",
       "42682  Released                      High School Can Be Brutal   \n",
       "24082  Released                                  Prepare to go   \n",
       "5660   Released                                            NaN   \n",
       "375    Released  When he said I do, he never said what he did.   \n",
       "26882  Released                                            NaN   \n",
       "\n",
       "                          title  video vote_average vote_count  \n",
       "42682     Lure: Teen Fight Club  False          3.0        5.0  \n",
       "24082            Into the Storm  False          5.8      829.0  \n",
       "5660   Escanaba in da Moonlight  False          4.4        4.0  \n",
       "375                   True Lies  False          6.8     1138.0  \n",
       "26882              Speak Easily  False          0.0        0.0  \n",
       "\n",
       "[5 rows x 24 columns]"
      ]
     },
     "execution_count": 54,
     "metadata": {},
     "output_type": "execute_result"
    }
   ],
   "source": [
    "movies.sample(5)"
   ]
  },
  {
   "cell_type": "code",
   "execution_count": 53,
   "id": "d8d3834a",
   "metadata": {},
   "outputs": [
    {
     "data": {
      "text/html": [
       "<div>\n",
       "<style scoped>\n",
       "    .dataframe tbody tr th:only-of-type {\n",
       "        vertical-align: middle;\n",
       "    }\n",
       "\n",
       "    .dataframe tbody tr th {\n",
       "        vertical-align: top;\n",
       "    }\n",
       "\n",
       "    .dataframe thead th {\n",
       "        text-align: right;\n",
       "    }\n",
       "</style>\n",
       "<table border=\"1\" class=\"dataframe\">\n",
       "  <thead>\n",
       "    <tr style=\"text-align: right;\">\n",
       "      <th></th>\n",
       "      <th>cast</th>\n",
       "      <th>crew</th>\n",
       "      <th>id</th>\n",
       "    </tr>\n",
       "  </thead>\n",
       "  <tbody>\n",
       "    <tr>\n",
       "      <th>33672</th>\n",
       "      <td>[{'cast_id': 0, 'character': 'Choi Ik-Ho', 'cr...</td>\n",
       "      <td>[{'credit_id': '5572e3b6c3a368376f003c21', 'de...</td>\n",
       "      <td>320150</td>\n",
       "    </tr>\n",
       "    <tr>\n",
       "      <th>11596</th>\n",
       "      <td>[{'cast_id': 21, 'character': 'Walter Sparrow ...</td>\n",
       "      <td>[{'credit_id': '52fe439fc3a36847f8062b8d', 'de...</td>\n",
       "      <td>3594</td>\n",
       "    </tr>\n",
       "    <tr>\n",
       "      <th>25407</th>\n",
       "      <td>[{'cast_id': 10, 'character': 'Ringo', 'credit...</td>\n",
       "      <td>[{'credit_id': '52fe4900c3a36847f81847ab', 'de...</td>\n",
       "      <td>56431</td>\n",
       "    </tr>\n",
       "    <tr>\n",
       "      <th>943</th>\n",
       "      <td>[{'cast_id': 8, 'character': 'Billy Dannreuthe...</td>\n",
       "      <td>[{'credit_id': '52fe444dc3a368484e01b667', 'de...</td>\n",
       "      <td>22733</td>\n",
       "    </tr>\n",
       "    <tr>\n",
       "      <th>9747</th>\n",
       "      <td>[{'cast_id': 2, 'character': 'June Mills', 'cr...</td>\n",
       "      <td>[{'credit_id': '52fe44f6c3a368484e040b7f', 'de...</td>\n",
       "      <td>26243</td>\n",
       "    </tr>\n",
       "  </tbody>\n",
       "</table>\n",
       "</div>"
      ],
      "text/plain": [
       "                                                    cast  \\\n",
       "33672  [{'cast_id': 0, 'character': 'Choi Ik-Ho', 'cr...   \n",
       "11596  [{'cast_id': 21, 'character': 'Walter Sparrow ...   \n",
       "25407  [{'cast_id': 10, 'character': 'Ringo', 'credit...   \n",
       "943    [{'cast_id': 8, 'character': 'Billy Dannreuthe...   \n",
       "9747   [{'cast_id': 2, 'character': 'June Mills', 'cr...   \n",
       "\n",
       "                                                    crew      id  \n",
       "33672  [{'credit_id': '5572e3b6c3a368376f003c21', 'de...  320150  \n",
       "11596  [{'credit_id': '52fe439fc3a36847f8062b8d', 'de...    3594  \n",
       "25407  [{'credit_id': '52fe4900c3a36847f81847ab', 'de...   56431  \n",
       "943    [{'credit_id': '52fe444dc3a368484e01b667', 'de...   22733  \n",
       "9747   [{'credit_id': '52fe44f6c3a368484e040b7f', 'de...   26243  "
      ]
     },
     "execution_count": 53,
     "metadata": {},
     "output_type": "execute_result"
    }
   ],
   "source": [
    "credits.sample(5)"
   ]
  },
  {
   "cell_type": "code",
   "execution_count": 3,
   "id": "2219e21c",
   "metadata": {},
   "outputs": [
    {
     "data": {
      "text/plain": [
       "(45466, 24)"
      ]
     },
     "execution_count": 3,
     "metadata": {},
     "output_type": "execute_result"
    }
   ],
   "source": [
    "movies.shape"
   ]
  },
  {
   "cell_type": "code",
   "execution_count": 4,
   "id": "c73e0b0a",
   "metadata": {},
   "outputs": [],
   "source": [
    "movies['id'] = pd.to_numeric(movies['id'],errors='coerce')"
   ]
  },
  {
   "cell_type": "code",
   "execution_count": 5,
   "id": "3e504760",
   "metadata": {},
   "outputs": [
    {
     "data": {
      "text/plain": [
       "adult                     object\n",
       "belongs_to_collection     object\n",
       "budget                    object\n",
       "genres                    object\n",
       "homepage                  object\n",
       "id                       float64\n",
       "imdb_id                   object\n",
       "original_language         object\n",
       "original_title            object\n",
       "overview                  object\n",
       "popularity                object\n",
       "poster_path               object\n",
       "production_companies      object\n",
       "production_countries      object\n",
       "release_date              object\n",
       "revenue                  float64\n",
       "runtime                  float64\n",
       "spoken_languages          object\n",
       "status                    object\n",
       "tagline                   object\n",
       "title                     object\n",
       "video                     object\n",
       "vote_average             float64\n",
       "vote_count               float64\n",
       "dtype: object"
      ]
     },
     "execution_count": 5,
     "metadata": {},
     "output_type": "execute_result"
    }
   ],
   "source": [
    "movies.dtypes"
   ]
  },
  {
   "cell_type": "code",
   "execution_count": 6,
   "id": "e0eb1350",
   "metadata": {},
   "outputs": [],
   "source": [
    "movies.dropna(subset=['id'],inplace=True)"
   ]
  },
  {
   "cell_type": "code",
   "execution_count": 7,
   "id": "6c513f47",
   "metadata": {},
   "outputs": [
    {
     "data": {
      "text/plain": [
       "(45463, 24)"
      ]
     },
     "execution_count": 7,
     "metadata": {},
     "output_type": "execute_result"
    }
   ],
   "source": [
    "movies.shape"
   ]
  },
  {
   "cell_type": "code",
   "execution_count": 8,
   "id": "8f5880d6",
   "metadata": {},
   "outputs": [],
   "source": [
    "# converting id column to int type\n",
    "movies['id'] = movies['id'].astype(int)"
   ]
  },
  {
   "cell_type": "code",
   "execution_count": 9,
   "id": "86c645c9",
   "metadata": {},
   "outputs": [
    {
     "data": {
      "text/plain": [
       "adult                        0\n",
       "belongs_to_collection    40972\n",
       "budget                       0\n",
       "genres                       0\n",
       "homepage                 37684\n",
       "id                           0\n",
       "imdb_id                     17\n",
       "original_language           11\n",
       "original_title               0\n",
       "overview                   954\n",
       "popularity                   3\n",
       "poster_path                386\n",
       "production_companies         3\n",
       "production_countries         3\n",
       "release_date                87\n",
       "revenue                      3\n",
       "runtime                    260\n",
       "spoken_languages             3\n",
       "status                      84\n",
       "tagline                  25051\n",
       "title                        3\n",
       "video                        3\n",
       "vote_average                 3\n",
       "vote_count                   3\n",
       "dtype: int64"
      ]
     },
     "execution_count": 9,
     "metadata": {},
     "output_type": "execute_result"
    }
   ],
   "source": [
    "movies.isnull().sum()"
   ]
  },
  {
   "cell_type": "code",
   "execution_count": 10,
   "id": "e8001017",
   "metadata": {},
   "outputs": [],
   "source": [
    "# merging both the datasets\n",
    "comb = movies.merge(credits,on='id')"
   ]
  },
  {
   "cell_type": "code",
   "execution_count": 11,
   "id": "ae345612",
   "metadata": {},
   "outputs": [
    {
     "data": {
      "text/plain": [
       "(45538, 26)"
      ]
     },
     "execution_count": 11,
     "metadata": {},
     "output_type": "execute_result"
    }
   ],
   "source": [
    "comb.shape"
   ]
  },
  {
   "cell_type": "code",
   "execution_count": 12,
   "id": "5d332a52",
   "metadata": {},
   "outputs": [
    {
     "data": {
      "text/plain": [
       "76"
      ]
     },
     "execution_count": 12,
     "metadata": {},
     "output_type": "execute_result"
    }
   ],
   "source": [
    "comb.duplicated().sum()"
   ]
  },
  {
   "cell_type": "code",
   "execution_count": 13,
   "id": "e1ed6493",
   "metadata": {},
   "outputs": [],
   "source": [
    "# dropping duplicate rows\n",
    "comb.drop_duplicates(inplace=True)"
   ]
  },
  {
   "cell_type": "code",
   "execution_count": 14,
   "id": "ffa013d5",
   "metadata": {
    "scrolled": true
   },
   "outputs": [
    {
     "data": {
      "text/plain": [
       "0"
      ]
     },
     "execution_count": 14,
     "metadata": {},
     "output_type": "execute_result"
    }
   ],
   "source": [
    "comb.duplicated().sum()"
   ]
  },
  {
   "cell_type": "code",
   "execution_count": 15,
   "id": "836a754c",
   "metadata": {},
   "outputs": [
    {
     "data": {
      "text/plain": [
       "adult                        0\n",
       "belongs_to_collection    40969\n",
       "budget                       0\n",
       "genres                       0\n",
       "homepage                 37685\n",
       "id                           0\n",
       "imdb_id                     17\n",
       "original_language           11\n",
       "original_title               0\n",
       "overview                   954\n",
       "popularity                   3\n",
       "poster_path                386\n",
       "production_companies         3\n",
       "production_countries         3\n",
       "release_date                87\n",
       "revenue                      3\n",
       "runtime                    260\n",
       "spoken_languages             3\n",
       "status                      84\n",
       "tagline                  25050\n",
       "title                        3\n",
       "video                        3\n",
       "vote_average                 3\n",
       "vote_count                   3\n",
       "cast                         0\n",
       "crew                         0\n",
       "dtype: int64"
      ]
     },
     "execution_count": 15,
     "metadata": {},
     "output_type": "execute_result"
    }
   ],
   "source": [
    "comb.isnull().sum()"
   ]
  },
  {
   "cell_type": "code",
   "execution_count": 16,
   "id": "52f7d402",
   "metadata": {},
   "outputs": [],
   "source": [
    "def fetch_director(text):\n",
    "    L = []\n",
    "    for i in ast.literal_eval(text):\n",
    "        if i['job'] == 'Director':\n",
    "            L.append(i['name'])\n",
    "    return L"
   ]
  },
  {
   "cell_type": "code",
   "execution_count": 17,
   "id": "bb3715e1",
   "metadata": {},
   "outputs": [],
   "source": [
    "comb['crew'] = comb['crew'].apply(fetch_director)"
   ]
  },
  {
   "cell_type": "code",
   "execution_count": 18,
   "id": "50e96730",
   "metadata": {},
   "outputs": [],
   "source": [
    "def convert3(text):\n",
    "    L = []\n",
    "    counter = 0\n",
    "    for i in ast.literal_eval(text):\n",
    "        if counter < 3:\n",
    "            L.append(i['name'])\n",
    "        counter+=1\n",
    "    return L "
   ]
  },
  {
   "cell_type": "code",
   "execution_count": 19,
   "id": "3bc51041",
   "metadata": {},
   "outputs": [],
   "source": [
    "comb['cast'] = comb['cast'].apply(convert3)"
   ]
  },
  {
   "cell_type": "code",
   "execution_count": 20,
   "id": "971860b4",
   "metadata": {},
   "outputs": [],
   "source": [
    "comb['cast'] = comb['cast'].apply(lambda x:x[0:3])"
   ]
  },
  {
   "cell_type": "code",
   "execution_count": 21,
   "id": "0281d1c8",
   "metadata": {},
   "outputs": [],
   "source": [
    "def convert(text):\n",
    "    L = []\n",
    "    for i in ast.literal_eval(text):\n",
    "        L.append(i['name']) \n",
    "    return L "
   ]
  },
  {
   "cell_type": "code",
   "execution_count": 22,
   "id": "49869b45",
   "metadata": {},
   "outputs": [],
   "source": [
    "comb['genres'] = comb['genres'].apply(convert)"
   ]
  },
  {
   "cell_type": "code",
   "execution_count": 23,
   "id": "f448e5cb",
   "metadata": {},
   "outputs": [],
   "source": [
    "new2 = comb[['id','title','overview','genres','cast','crew']] "
   ]
  },
  {
   "cell_type": "code",
   "execution_count": 24,
   "id": "a2e0919a",
   "metadata": {},
   "outputs": [
    {
     "data": {
      "text/plain": [
       "(45462, 6)"
      ]
     },
     "execution_count": 24,
     "metadata": {},
     "output_type": "execute_result"
    }
   ],
   "source": [
    "new2.shape"
   ]
  },
  {
   "cell_type": "code",
   "execution_count": 25,
   "id": "62e6faad",
   "metadata": {
    "scrolled": true
   },
   "outputs": [
    {
     "data": {
      "text/plain": [
       "id            0\n",
       "title         3\n",
       "overview    954\n",
       "genres        0\n",
       "cast          0\n",
       "crew          0\n",
       "dtype: int64"
      ]
     },
     "execution_count": 25,
     "metadata": {},
     "output_type": "execute_result"
    }
   ],
   "source": [
    "new2.isnull().sum()"
   ]
  },
  {
   "cell_type": "code",
   "execution_count": 26,
   "id": "919ca899",
   "metadata": {},
   "outputs": [],
   "source": [
    "new2.dropna(inplace=True)"
   ]
  },
  {
   "cell_type": "code",
   "execution_count": 27,
   "id": "37e9a44d",
   "metadata": {},
   "outputs": [],
   "source": [
    "new2['overview'] = new2['overview'].astype('str')"
   ]
  },
  {
   "cell_type": "code",
   "execution_count": 28,
   "id": "b043110b",
   "metadata": {},
   "outputs": [],
   "source": [
    "new2['overview'] = new2['overview'].apply(lambda x:x.split())"
   ]
  },
  {
   "cell_type": "code",
   "execution_count": 29,
   "id": "e13fb9c0",
   "metadata": {},
   "outputs": [
    {
     "data": {
      "text/plain": [
       "'Toy Story'"
      ]
     },
     "execution_count": 29,
     "metadata": {},
     "output_type": "execute_result"
    }
   ],
   "source": [
    "new2['title'][0]"
   ]
  },
  {
   "cell_type": "code",
   "execution_count": 30,
   "id": "9524ff62",
   "metadata": {},
   "outputs": [],
   "source": [
    "def collapse(L):\n",
    "    L1 = []\n",
    "    for i in L:\n",
    "        L1.append(i.replace(\" \",\"\"))\n",
    "    return L1"
   ]
  },
  {
   "cell_type": "code",
   "execution_count": 31,
   "id": "feee4188",
   "metadata": {},
   "outputs": [],
   "source": [
    "new2['cast'] = new2['cast'].apply(collapse)\n",
    "new2['crew'] = new2['crew'].apply(collapse)\n",
    "new2['genres'] = new2['genres'].apply(collapse)"
   ]
  },
  {
   "cell_type": "code",
   "execution_count": 32,
   "id": "e480bbee",
   "metadata": {},
   "outputs": [],
   "source": [
    "new2['tags'] = new2['overview'] + new2['genres'] + new2['cast'] + new2['crew']"
   ]
  },
  {
   "cell_type": "code",
   "execution_count": 33,
   "id": "41453599",
   "metadata": {},
   "outputs": [],
   "source": [
    "new3 = new2[['id','title','tags']]"
   ]
  },
  {
   "cell_type": "code",
   "execution_count": 34,
   "id": "4edc9f3c",
   "metadata": {},
   "outputs": [],
   "source": [
    "new3['tags'] = new3['tags'].apply(lambda x:\" \".join(x))"
   ]
  },
  {
   "cell_type": "code",
   "execution_count": 35,
   "id": "547662e6",
   "metadata": {},
   "outputs": [],
   "source": [
    "new3['tags'] = new3['tags'].apply(lambda x:x.lower())"
   ]
  },
  {
   "cell_type": "code",
   "execution_count": 36,
   "id": "8dff6515",
   "metadata": {},
   "outputs": [],
   "source": [
    "from sklearn.feature_extraction.text import CountVectorizer\n",
    "cv = CountVectorizer(max_features=500,stop_words='english')"
   ]
  },
  {
   "cell_type": "code",
   "execution_count": 37,
   "id": "f25ec0d8",
   "metadata": {},
   "outputs": [],
   "source": [
    "vector = cv.fit_transform(new3['tags']).toarray()"
   ]
  },
  {
   "cell_type": "code",
   "execution_count": 39,
   "id": "b3aa9b8f",
   "metadata": {
    "scrolled": false
   },
   "outputs": [
    {
     "ename": "MemoryError",
     "evalue": "Unable to allocate 14.8 GiB for an array with shape (44505, 44505) and data type float64",
     "output_type": "error",
     "traceback": [
      "\u001b[1;31m---------------------------------------------------------------------------\u001b[0m",
      "\u001b[1;31mMemoryError\u001b[0m                               Traceback (most recent call last)",
      "Input \u001b[1;32mIn [39]\u001b[0m, in \u001b[0;36m<cell line: 1>\u001b[1;34m()\u001b[0m\n\u001b[1;32m----> 1\u001b[0m similarity \u001b[38;5;241m=\u001b[39m \u001b[43mcosine_similarity\u001b[49m\u001b[43m(\u001b[49m\u001b[43mvector\u001b[49m\u001b[43m)\u001b[49m\n",
      "File \u001b[1;32m~\\AppData\\Roaming\\Python\\Python39\\site-packages\\sklearn\\metrics\\pairwise.py:1401\u001b[0m, in \u001b[0;36mcosine_similarity\u001b[1;34m(X, Y, dense_output)\u001b[0m\n\u001b[0;32m   1398\u001b[0m \u001b[38;5;28;01melse\u001b[39;00m:\n\u001b[0;32m   1399\u001b[0m     Y_normalized \u001b[38;5;241m=\u001b[39m normalize(Y, copy\u001b[38;5;241m=\u001b[39m\u001b[38;5;28;01mTrue\u001b[39;00m)\n\u001b[1;32m-> 1401\u001b[0m K \u001b[38;5;241m=\u001b[39m \u001b[43msafe_sparse_dot\u001b[49m\u001b[43m(\u001b[49m\u001b[43mX_normalized\u001b[49m\u001b[43m,\u001b[49m\u001b[43m \u001b[49m\u001b[43mY_normalized\u001b[49m\u001b[38;5;241;43m.\u001b[39;49m\u001b[43mT\u001b[49m\u001b[43m,\u001b[49m\u001b[43m \u001b[49m\u001b[43mdense_output\u001b[49m\u001b[38;5;241;43m=\u001b[39;49m\u001b[43mdense_output\u001b[49m\u001b[43m)\u001b[49m\n\u001b[0;32m   1403\u001b[0m \u001b[38;5;28;01mreturn\u001b[39;00m K\n",
      "File \u001b[1;32m~\\AppData\\Roaming\\Python\\Python39\\site-packages\\sklearn\\utils\\extmath.py:189\u001b[0m, in \u001b[0;36msafe_sparse_dot\u001b[1;34m(a, b, dense_output)\u001b[0m\n\u001b[0;32m    187\u001b[0m         ret \u001b[38;5;241m=\u001b[39m np\u001b[38;5;241m.\u001b[39mdot(a, b)\n\u001b[0;32m    188\u001b[0m \u001b[38;5;28;01melse\u001b[39;00m:\n\u001b[1;32m--> 189\u001b[0m     ret \u001b[38;5;241m=\u001b[39m \u001b[43ma\u001b[49m\u001b[43m \u001b[49m\u001b[38;5;241;43m@\u001b[39;49m\u001b[43m \u001b[49m\u001b[43mb\u001b[49m\n\u001b[0;32m    191\u001b[0m \u001b[38;5;28;01mif\u001b[39;00m (\n\u001b[0;32m    192\u001b[0m     sparse\u001b[38;5;241m.\u001b[39missparse(a)\n\u001b[0;32m    193\u001b[0m     \u001b[38;5;129;01mand\u001b[39;00m sparse\u001b[38;5;241m.\u001b[39missparse(b)\n\u001b[0;32m    194\u001b[0m     \u001b[38;5;129;01mand\u001b[39;00m dense_output\n\u001b[0;32m    195\u001b[0m     \u001b[38;5;129;01mand\u001b[39;00m \u001b[38;5;28mhasattr\u001b[39m(ret, \u001b[38;5;124m\"\u001b[39m\u001b[38;5;124mtoarray\u001b[39m\u001b[38;5;124m\"\u001b[39m)\n\u001b[0;32m    196\u001b[0m ):\n\u001b[0;32m    197\u001b[0m     \u001b[38;5;28;01mreturn\u001b[39;00m ret\u001b[38;5;241m.\u001b[39mtoarray()\n",
      "\u001b[1;31mMemoryError\u001b[0m: Unable to allocate 14.8 GiB for an array with shape (44505, 44505) and data type float64"
     ]
    }
   ],
   "source": [
    "similarity = cosine_similarity(vector)"
   ]
  },
  {
   "cell_type": "code",
   "execution_count": 40,
   "id": "fb062761",
   "metadata": {},
   "outputs": [],
   "source": [
    "def recommend(movie):\n",
    "    index = new3[new3['title'] == movie].index[0]\n",
    "    distances = sorted(list(enumerate(similarity[index])),reverse=True,key = lambda x: x[1])\n",
    "    for i in distances[1:6]:\n",
    "        print(new3.iloc[i[0]].title)"
   ]
  },
  {
   "cell_type": "code",
   "execution_count": 55,
   "id": "c4c62f29",
   "metadata": {},
   "outputs": [
    {
     "ename": "NameError",
     "evalue": "name 'similarity' is not defined",
     "output_type": "error",
     "traceback": [
      "\u001b[1;31m---------------------------------------------------------------------------\u001b[0m",
      "\u001b[1;31mNameError\u001b[0m                                 Traceback (most recent call last)",
      "Input \u001b[1;32mIn [55]\u001b[0m, in \u001b[0;36m<cell line: 1>\u001b[1;34m()\u001b[0m\n\u001b[1;32m----> 1\u001b[0m \u001b[43mrecommend\u001b[49m\u001b[43m(\u001b[49m\u001b[38;5;124;43m'\u001b[39;49m\u001b[38;5;124;43mTrue Lies\u001b[39;49m\u001b[38;5;124;43m'\u001b[39;49m\u001b[43m)\u001b[49m\n",
      "Input \u001b[1;32mIn [40]\u001b[0m, in \u001b[0;36mrecommend\u001b[1;34m(movie)\u001b[0m\n\u001b[0;32m      1\u001b[0m \u001b[38;5;28;01mdef\u001b[39;00m \u001b[38;5;21mrecommend\u001b[39m(movie):\n\u001b[0;32m      2\u001b[0m     index \u001b[38;5;241m=\u001b[39m new3[new3[\u001b[38;5;124m'\u001b[39m\u001b[38;5;124mtitle\u001b[39m\u001b[38;5;124m'\u001b[39m] \u001b[38;5;241m==\u001b[39m movie]\u001b[38;5;241m.\u001b[39mindex[\u001b[38;5;241m0\u001b[39m]\n\u001b[1;32m----> 3\u001b[0m     distances \u001b[38;5;241m=\u001b[39m \u001b[38;5;28msorted\u001b[39m(\u001b[38;5;28mlist\u001b[39m(\u001b[38;5;28menumerate\u001b[39m(\u001b[43msimilarity\u001b[49m[index])),reverse\u001b[38;5;241m=\u001b[39m\u001b[38;5;28;01mTrue\u001b[39;00m,key \u001b[38;5;241m=\u001b[39m \u001b[38;5;28;01mlambda\u001b[39;00m x: x[\u001b[38;5;241m1\u001b[39m])\n\u001b[0;32m      4\u001b[0m     \u001b[38;5;28;01mfor\u001b[39;00m i \u001b[38;5;129;01min\u001b[39;00m distances[\u001b[38;5;241m1\u001b[39m:\u001b[38;5;241m6\u001b[39m]:\n\u001b[0;32m      5\u001b[0m         \u001b[38;5;28mprint\u001b[39m(new3\u001b[38;5;241m.\u001b[39miloc[i[\u001b[38;5;241m0\u001b[39m]]\u001b[38;5;241m.\u001b[39mtitle)\n",
      "\u001b[1;31mNameError\u001b[0m: name 'similarity' is not defined"
     ]
    }
   ],
   "source": [
    "recommend('True Lies')"
   ]
  }
 ],
 "metadata": {
  "kernelspec": {
   "display_name": "Python 3 (ipykernel)",
   "language": "python",
   "name": "python3"
  },
  "language_info": {
   "codemirror_mode": {
    "name": "ipython",
    "version": 3
   },
   "file_extension": ".py",
   "mimetype": "text/x-python",
   "name": "python",
   "nbconvert_exporter": "python",
   "pygments_lexer": "ipython3",
   "version": "3.9.12"
  }
 },
 "nbformat": 4,
 "nbformat_minor": 5
}
