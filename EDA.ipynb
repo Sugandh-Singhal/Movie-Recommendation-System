{
 "cells": [
  {
   "cell_type": "code",
   "execution_count": 1,
   "id": "6508e523",
   "metadata": {},
   "outputs": [],
   "source": [
    "import pandas as pd\n",
    "import numpy as np\n",
    "import seaborn as sns\n",
    "import matplotlib.pyplot as plt\n",
    "import warnings\n",
    "warnings.filterwarnings('ignore')\n",
    "import ast"
   ]
  },
  {
   "cell_type": "code",
   "execution_count": 2,
   "id": "2d745a61",
   "metadata": {},
   "outputs": [],
   "source": [
    "movies = pd.read_csv('movies_metadata.csv')\n",
    "credits = pd.read_csv('credits.csv')"
   ]
  },
  {
   "cell_type": "markdown",
   "id": "3776fa5e",
   "metadata": {},
   "source": [
    "### EXPLORING MOVIES DATA"
   ]
  },
  {
   "cell_type": "code",
   "execution_count": 3,
   "id": "41ae4afe",
   "metadata": {},
   "outputs": [
    {
     "name": "stdout",
     "output_type": "stream",
     "text": [
      "No of records in movies data:  45466\n",
      "No of columns in movies data:  24\n"
     ]
    }
   ],
   "source": [
    "print('No of records in movies data: ',movies.shape[0])\n",
    "print('No of columns in movies data: ',movies.shape[1])"
   ]
  },
  {
   "cell_type": "code",
   "execution_count": 4,
   "id": "173b10f4",
   "metadata": {},
   "outputs": [
    {
     "data": {
      "text/html": [
       "<div>\n",
       "<style scoped>\n",
       "    .dataframe tbody tr th:only-of-type {\n",
       "        vertical-align: middle;\n",
       "    }\n",
       "\n",
       "    .dataframe tbody tr th {\n",
       "        vertical-align: top;\n",
       "    }\n",
       "\n",
       "    .dataframe thead th {\n",
       "        text-align: right;\n",
       "    }\n",
       "</style>\n",
       "<table border=\"1\" class=\"dataframe\">\n",
       "  <thead>\n",
       "    <tr style=\"text-align: right;\">\n",
       "      <th></th>\n",
       "      <th>adult</th>\n",
       "      <th>belongs_to_collection</th>\n",
       "      <th>budget</th>\n",
       "      <th>genres</th>\n",
       "      <th>homepage</th>\n",
       "      <th>id</th>\n",
       "      <th>imdb_id</th>\n",
       "      <th>original_language</th>\n",
       "      <th>original_title</th>\n",
       "      <th>overview</th>\n",
       "      <th>...</th>\n",
       "      <th>release_date</th>\n",
       "      <th>revenue</th>\n",
       "      <th>runtime</th>\n",
       "      <th>spoken_languages</th>\n",
       "      <th>status</th>\n",
       "      <th>tagline</th>\n",
       "      <th>title</th>\n",
       "      <th>video</th>\n",
       "      <th>vote_average</th>\n",
       "      <th>vote_count</th>\n",
       "    </tr>\n",
       "  </thead>\n",
       "  <tbody>\n",
       "    <tr>\n",
       "      <th>0</th>\n",
       "      <td>False</td>\n",
       "      <td>{'id': 10194, 'name': 'Toy Story Collection', ...</td>\n",
       "      <td>30000000</td>\n",
       "      <td>[{'id': 16, 'name': 'Animation'}, {'id': 35, '...</td>\n",
       "      <td>http://toystory.disney.com/toy-story</td>\n",
       "      <td>862</td>\n",
       "      <td>tt0114709</td>\n",
       "      <td>en</td>\n",
       "      <td>Toy Story</td>\n",
       "      <td>Led by Woody, Andy's toys live happily in his ...</td>\n",
       "      <td>...</td>\n",
       "      <td>1995-10-30</td>\n",
       "      <td>373554033.0</td>\n",
       "      <td>81.0</td>\n",
       "      <td>[{'iso_639_1': 'en', 'name': 'English'}]</td>\n",
       "      <td>Released</td>\n",
       "      <td>NaN</td>\n",
       "      <td>Toy Story</td>\n",
       "      <td>False</td>\n",
       "      <td>7.7</td>\n",
       "      <td>5415.0</td>\n",
       "    </tr>\n",
       "    <tr>\n",
       "      <th>1</th>\n",
       "      <td>False</td>\n",
       "      <td>NaN</td>\n",
       "      <td>65000000</td>\n",
       "      <td>[{'id': 12, 'name': 'Adventure'}, {'id': 14, '...</td>\n",
       "      <td>NaN</td>\n",
       "      <td>8844</td>\n",
       "      <td>tt0113497</td>\n",
       "      <td>en</td>\n",
       "      <td>Jumanji</td>\n",
       "      <td>When siblings Judy and Peter discover an encha...</td>\n",
       "      <td>...</td>\n",
       "      <td>1995-12-15</td>\n",
       "      <td>262797249.0</td>\n",
       "      <td>104.0</td>\n",
       "      <td>[{'iso_639_1': 'en', 'name': 'English'}, {'iso...</td>\n",
       "      <td>Released</td>\n",
       "      <td>Roll the dice and unleash the excitement!</td>\n",
       "      <td>Jumanji</td>\n",
       "      <td>False</td>\n",
       "      <td>6.9</td>\n",
       "      <td>2413.0</td>\n",
       "    </tr>\n",
       "    <tr>\n",
       "      <th>2</th>\n",
       "      <td>False</td>\n",
       "      <td>{'id': 119050, 'name': 'Grumpy Old Men Collect...</td>\n",
       "      <td>0</td>\n",
       "      <td>[{'id': 10749, 'name': 'Romance'}, {'id': 35, ...</td>\n",
       "      <td>NaN</td>\n",
       "      <td>15602</td>\n",
       "      <td>tt0113228</td>\n",
       "      <td>en</td>\n",
       "      <td>Grumpier Old Men</td>\n",
       "      <td>A family wedding reignites the ancient feud be...</td>\n",
       "      <td>...</td>\n",
       "      <td>1995-12-22</td>\n",
       "      <td>0.0</td>\n",
       "      <td>101.0</td>\n",
       "      <td>[{'iso_639_1': 'en', 'name': 'English'}]</td>\n",
       "      <td>Released</td>\n",
       "      <td>Still Yelling. Still Fighting. Still Ready for...</td>\n",
       "      <td>Grumpier Old Men</td>\n",
       "      <td>False</td>\n",
       "      <td>6.5</td>\n",
       "      <td>92.0</td>\n",
       "    </tr>\n",
       "    <tr>\n",
       "      <th>3</th>\n",
       "      <td>False</td>\n",
       "      <td>NaN</td>\n",
       "      <td>16000000</td>\n",
       "      <td>[{'id': 35, 'name': 'Comedy'}, {'id': 18, 'nam...</td>\n",
       "      <td>NaN</td>\n",
       "      <td>31357</td>\n",
       "      <td>tt0114885</td>\n",
       "      <td>en</td>\n",
       "      <td>Waiting to Exhale</td>\n",
       "      <td>Cheated on, mistreated and stepped on, the wom...</td>\n",
       "      <td>...</td>\n",
       "      <td>1995-12-22</td>\n",
       "      <td>81452156.0</td>\n",
       "      <td>127.0</td>\n",
       "      <td>[{'iso_639_1': 'en', 'name': 'English'}]</td>\n",
       "      <td>Released</td>\n",
       "      <td>Friends are the people who let you be yourself...</td>\n",
       "      <td>Waiting to Exhale</td>\n",
       "      <td>False</td>\n",
       "      <td>6.1</td>\n",
       "      <td>34.0</td>\n",
       "    </tr>\n",
       "    <tr>\n",
       "      <th>4</th>\n",
       "      <td>False</td>\n",
       "      <td>{'id': 96871, 'name': 'Father of the Bride Col...</td>\n",
       "      <td>0</td>\n",
       "      <td>[{'id': 35, 'name': 'Comedy'}]</td>\n",
       "      <td>NaN</td>\n",
       "      <td>11862</td>\n",
       "      <td>tt0113041</td>\n",
       "      <td>en</td>\n",
       "      <td>Father of the Bride Part II</td>\n",
       "      <td>Just when George Banks has recovered from his ...</td>\n",
       "      <td>...</td>\n",
       "      <td>1995-02-10</td>\n",
       "      <td>76578911.0</td>\n",
       "      <td>106.0</td>\n",
       "      <td>[{'iso_639_1': 'en', 'name': 'English'}]</td>\n",
       "      <td>Released</td>\n",
       "      <td>Just When His World Is Back To Normal... He's ...</td>\n",
       "      <td>Father of the Bride Part II</td>\n",
       "      <td>False</td>\n",
       "      <td>5.7</td>\n",
       "      <td>173.0</td>\n",
       "    </tr>\n",
       "    <tr>\n",
       "      <th>5</th>\n",
       "      <td>False</td>\n",
       "      <td>NaN</td>\n",
       "      <td>60000000</td>\n",
       "      <td>[{'id': 28, 'name': 'Action'}, {'id': 80, 'nam...</td>\n",
       "      <td>NaN</td>\n",
       "      <td>949</td>\n",
       "      <td>tt0113277</td>\n",
       "      <td>en</td>\n",
       "      <td>Heat</td>\n",
       "      <td>Obsessive master thief, Neil McCauley leads a ...</td>\n",
       "      <td>...</td>\n",
       "      <td>1995-12-15</td>\n",
       "      <td>187436818.0</td>\n",
       "      <td>170.0</td>\n",
       "      <td>[{'iso_639_1': 'en', 'name': 'English'}, {'iso...</td>\n",
       "      <td>Released</td>\n",
       "      <td>A Los Angeles Crime Saga</td>\n",
       "      <td>Heat</td>\n",
       "      <td>False</td>\n",
       "      <td>7.7</td>\n",
       "      <td>1886.0</td>\n",
       "    </tr>\n",
       "    <tr>\n",
       "      <th>6</th>\n",
       "      <td>False</td>\n",
       "      <td>NaN</td>\n",
       "      <td>58000000</td>\n",
       "      <td>[{'id': 35, 'name': 'Comedy'}, {'id': 10749, '...</td>\n",
       "      <td>NaN</td>\n",
       "      <td>11860</td>\n",
       "      <td>tt0114319</td>\n",
       "      <td>en</td>\n",
       "      <td>Sabrina</td>\n",
       "      <td>An ugly duckling having undergone a remarkable...</td>\n",
       "      <td>...</td>\n",
       "      <td>1995-12-15</td>\n",
       "      <td>0.0</td>\n",
       "      <td>127.0</td>\n",
       "      <td>[{'iso_639_1': 'fr', 'name': 'Français'}, {'is...</td>\n",
       "      <td>Released</td>\n",
       "      <td>You are cordially invited to the most surprisi...</td>\n",
       "      <td>Sabrina</td>\n",
       "      <td>False</td>\n",
       "      <td>6.2</td>\n",
       "      <td>141.0</td>\n",
       "    </tr>\n",
       "    <tr>\n",
       "      <th>7</th>\n",
       "      <td>False</td>\n",
       "      <td>NaN</td>\n",
       "      <td>0</td>\n",
       "      <td>[{'id': 28, 'name': 'Action'}, {'id': 12, 'nam...</td>\n",
       "      <td>NaN</td>\n",
       "      <td>45325</td>\n",
       "      <td>tt0112302</td>\n",
       "      <td>en</td>\n",
       "      <td>Tom and Huck</td>\n",
       "      <td>A mischievous young boy, Tom Sawyer, witnesses...</td>\n",
       "      <td>...</td>\n",
       "      <td>1995-12-22</td>\n",
       "      <td>0.0</td>\n",
       "      <td>97.0</td>\n",
       "      <td>[{'iso_639_1': 'en', 'name': 'English'}, {'iso...</td>\n",
       "      <td>Released</td>\n",
       "      <td>The Original Bad Boys.</td>\n",
       "      <td>Tom and Huck</td>\n",
       "      <td>False</td>\n",
       "      <td>5.4</td>\n",
       "      <td>45.0</td>\n",
       "    </tr>\n",
       "    <tr>\n",
       "      <th>8</th>\n",
       "      <td>False</td>\n",
       "      <td>NaN</td>\n",
       "      <td>35000000</td>\n",
       "      <td>[{'id': 28, 'name': 'Action'}, {'id': 12, 'nam...</td>\n",
       "      <td>NaN</td>\n",
       "      <td>9091</td>\n",
       "      <td>tt0114576</td>\n",
       "      <td>en</td>\n",
       "      <td>Sudden Death</td>\n",
       "      <td>International action superstar Jean Claude Van...</td>\n",
       "      <td>...</td>\n",
       "      <td>1995-12-22</td>\n",
       "      <td>64350171.0</td>\n",
       "      <td>106.0</td>\n",
       "      <td>[{'iso_639_1': 'en', 'name': 'English'}]</td>\n",
       "      <td>Released</td>\n",
       "      <td>Terror goes into overtime.</td>\n",
       "      <td>Sudden Death</td>\n",
       "      <td>False</td>\n",
       "      <td>5.5</td>\n",
       "      <td>174.0</td>\n",
       "    </tr>\n",
       "    <tr>\n",
       "      <th>9</th>\n",
       "      <td>False</td>\n",
       "      <td>{'id': 645, 'name': 'James Bond Collection', '...</td>\n",
       "      <td>58000000</td>\n",
       "      <td>[{'id': 12, 'name': 'Adventure'}, {'id': 28, '...</td>\n",
       "      <td>http://www.mgm.com/view/movie/757/Goldeneye/</td>\n",
       "      <td>710</td>\n",
       "      <td>tt0113189</td>\n",
       "      <td>en</td>\n",
       "      <td>GoldenEye</td>\n",
       "      <td>James Bond must unmask the mysterious head of ...</td>\n",
       "      <td>...</td>\n",
       "      <td>1995-11-16</td>\n",
       "      <td>352194034.0</td>\n",
       "      <td>130.0</td>\n",
       "      <td>[{'iso_639_1': 'en', 'name': 'English'}, {'iso...</td>\n",
       "      <td>Released</td>\n",
       "      <td>No limits. No fears. No substitutes.</td>\n",
       "      <td>GoldenEye</td>\n",
       "      <td>False</td>\n",
       "      <td>6.6</td>\n",
       "      <td>1194.0</td>\n",
       "    </tr>\n",
       "  </tbody>\n",
       "</table>\n",
       "<p>10 rows × 24 columns</p>\n",
       "</div>"
      ],
      "text/plain": [
       "   adult                              belongs_to_collection    budget  \\\n",
       "0  False  {'id': 10194, 'name': 'Toy Story Collection', ...  30000000   \n",
       "1  False                                                NaN  65000000   \n",
       "2  False  {'id': 119050, 'name': 'Grumpy Old Men Collect...         0   \n",
       "3  False                                                NaN  16000000   \n",
       "4  False  {'id': 96871, 'name': 'Father of the Bride Col...         0   \n",
       "5  False                                                NaN  60000000   \n",
       "6  False                                                NaN  58000000   \n",
       "7  False                                                NaN         0   \n",
       "8  False                                                NaN  35000000   \n",
       "9  False  {'id': 645, 'name': 'James Bond Collection', '...  58000000   \n",
       "\n",
       "                                              genres  \\\n",
       "0  [{'id': 16, 'name': 'Animation'}, {'id': 35, '...   \n",
       "1  [{'id': 12, 'name': 'Adventure'}, {'id': 14, '...   \n",
       "2  [{'id': 10749, 'name': 'Romance'}, {'id': 35, ...   \n",
       "3  [{'id': 35, 'name': 'Comedy'}, {'id': 18, 'nam...   \n",
       "4                     [{'id': 35, 'name': 'Comedy'}]   \n",
       "5  [{'id': 28, 'name': 'Action'}, {'id': 80, 'nam...   \n",
       "6  [{'id': 35, 'name': 'Comedy'}, {'id': 10749, '...   \n",
       "7  [{'id': 28, 'name': 'Action'}, {'id': 12, 'nam...   \n",
       "8  [{'id': 28, 'name': 'Action'}, {'id': 12, 'nam...   \n",
       "9  [{'id': 12, 'name': 'Adventure'}, {'id': 28, '...   \n",
       "\n",
       "                                       homepage     id    imdb_id  \\\n",
       "0          http://toystory.disney.com/toy-story    862  tt0114709   \n",
       "1                                           NaN   8844  tt0113497   \n",
       "2                                           NaN  15602  tt0113228   \n",
       "3                                           NaN  31357  tt0114885   \n",
       "4                                           NaN  11862  tt0113041   \n",
       "5                                           NaN    949  tt0113277   \n",
       "6                                           NaN  11860  tt0114319   \n",
       "7                                           NaN  45325  tt0112302   \n",
       "8                                           NaN   9091  tt0114576   \n",
       "9  http://www.mgm.com/view/movie/757/Goldeneye/    710  tt0113189   \n",
       "\n",
       "  original_language               original_title  \\\n",
       "0                en                    Toy Story   \n",
       "1                en                      Jumanji   \n",
       "2                en             Grumpier Old Men   \n",
       "3                en            Waiting to Exhale   \n",
       "4                en  Father of the Bride Part II   \n",
       "5                en                         Heat   \n",
       "6                en                      Sabrina   \n",
       "7                en                 Tom and Huck   \n",
       "8                en                 Sudden Death   \n",
       "9                en                    GoldenEye   \n",
       "\n",
       "                                            overview  ... release_date  \\\n",
       "0  Led by Woody, Andy's toys live happily in his ...  ...   1995-10-30   \n",
       "1  When siblings Judy and Peter discover an encha...  ...   1995-12-15   \n",
       "2  A family wedding reignites the ancient feud be...  ...   1995-12-22   \n",
       "3  Cheated on, mistreated and stepped on, the wom...  ...   1995-12-22   \n",
       "4  Just when George Banks has recovered from his ...  ...   1995-02-10   \n",
       "5  Obsessive master thief, Neil McCauley leads a ...  ...   1995-12-15   \n",
       "6  An ugly duckling having undergone a remarkable...  ...   1995-12-15   \n",
       "7  A mischievous young boy, Tom Sawyer, witnesses...  ...   1995-12-22   \n",
       "8  International action superstar Jean Claude Van...  ...   1995-12-22   \n",
       "9  James Bond must unmask the mysterious head of ...  ...   1995-11-16   \n",
       "\n",
       "       revenue runtime                                   spoken_languages  \\\n",
       "0  373554033.0    81.0           [{'iso_639_1': 'en', 'name': 'English'}]   \n",
       "1  262797249.0   104.0  [{'iso_639_1': 'en', 'name': 'English'}, {'iso...   \n",
       "2          0.0   101.0           [{'iso_639_1': 'en', 'name': 'English'}]   \n",
       "3   81452156.0   127.0           [{'iso_639_1': 'en', 'name': 'English'}]   \n",
       "4   76578911.0   106.0           [{'iso_639_1': 'en', 'name': 'English'}]   \n",
       "5  187436818.0   170.0  [{'iso_639_1': 'en', 'name': 'English'}, {'iso...   \n",
       "6          0.0   127.0  [{'iso_639_1': 'fr', 'name': 'Français'}, {'is...   \n",
       "7          0.0    97.0  [{'iso_639_1': 'en', 'name': 'English'}, {'iso...   \n",
       "8   64350171.0   106.0           [{'iso_639_1': 'en', 'name': 'English'}]   \n",
       "9  352194034.0   130.0  [{'iso_639_1': 'en', 'name': 'English'}, {'iso...   \n",
       "\n",
       "     status                                            tagline  \\\n",
       "0  Released                                                NaN   \n",
       "1  Released          Roll the dice and unleash the excitement!   \n",
       "2  Released  Still Yelling. Still Fighting. Still Ready for...   \n",
       "3  Released  Friends are the people who let you be yourself...   \n",
       "4  Released  Just When His World Is Back To Normal... He's ...   \n",
       "5  Released                           A Los Angeles Crime Saga   \n",
       "6  Released  You are cordially invited to the most surprisi...   \n",
       "7  Released                             The Original Bad Boys.   \n",
       "8  Released                         Terror goes into overtime.   \n",
       "9  Released               No limits. No fears. No substitutes.   \n",
       "\n",
       "                         title  video vote_average vote_count  \n",
       "0                    Toy Story  False          7.7     5415.0  \n",
       "1                      Jumanji  False          6.9     2413.0  \n",
       "2             Grumpier Old Men  False          6.5       92.0  \n",
       "3            Waiting to Exhale  False          6.1       34.0  \n",
       "4  Father of the Bride Part II  False          5.7      173.0  \n",
       "5                         Heat  False          7.7     1886.0  \n",
       "6                      Sabrina  False          6.2      141.0  \n",
       "7                 Tom and Huck  False          5.4       45.0  \n",
       "8                 Sudden Death  False          5.5      174.0  \n",
       "9                    GoldenEye  False          6.6     1194.0  \n",
       "\n",
       "[10 rows x 24 columns]"
      ]
     },
     "execution_count": 4,
     "metadata": {},
     "output_type": "execute_result"
    }
   ],
   "source": [
    "# Viewing first 10 rows of the data\n",
    "movies.head(10)"
   ]
  },
  {
   "cell_type": "code",
   "execution_count": 5,
   "id": "38b942dd",
   "metadata": {},
   "outputs": [
    {
     "data": {
      "text/html": [
       "<div>\n",
       "<style scoped>\n",
       "    .dataframe tbody tr th:only-of-type {\n",
       "        vertical-align: middle;\n",
       "    }\n",
       "\n",
       "    .dataframe tbody tr th {\n",
       "        vertical-align: top;\n",
       "    }\n",
       "\n",
       "    .dataframe thead th {\n",
       "        text-align: right;\n",
       "    }\n",
       "</style>\n",
       "<table border=\"1\" class=\"dataframe\">\n",
       "  <thead>\n",
       "    <tr style=\"text-align: right;\">\n",
       "      <th></th>\n",
       "      <th>adult</th>\n",
       "      <th>belongs_to_collection</th>\n",
       "      <th>budget</th>\n",
       "      <th>genres</th>\n",
       "      <th>homepage</th>\n",
       "      <th>id</th>\n",
       "      <th>imdb_id</th>\n",
       "      <th>original_language</th>\n",
       "      <th>original_title</th>\n",
       "      <th>overview</th>\n",
       "      <th>...</th>\n",
       "      <th>release_date</th>\n",
       "      <th>revenue</th>\n",
       "      <th>runtime</th>\n",
       "      <th>spoken_languages</th>\n",
       "      <th>status</th>\n",
       "      <th>tagline</th>\n",
       "      <th>title</th>\n",
       "      <th>video</th>\n",
       "      <th>vote_average</th>\n",
       "      <th>vote_count</th>\n",
       "    </tr>\n",
       "  </thead>\n",
       "  <tbody>\n",
       "    <tr>\n",
       "      <th>45456</th>\n",
       "      <td>False</td>\n",
       "      <td>NaN</td>\n",
       "      <td>0</td>\n",
       "      <td>[{'id': 27, 'name': 'Horror'}, {'id': 9648, 'n...</td>\n",
       "      <td>NaN</td>\n",
       "      <td>84419</td>\n",
       "      <td>tt0038621</td>\n",
       "      <td>en</td>\n",
       "      <td>House of Horrors</td>\n",
       "      <td>An unsuccessful sculptor saves a madman named ...</td>\n",
       "      <td>...</td>\n",
       "      <td>1946-03-29</td>\n",
       "      <td>0.0</td>\n",
       "      <td>65.0</td>\n",
       "      <td>[{'iso_639_1': 'en', 'name': 'English'}]</td>\n",
       "      <td>Released</td>\n",
       "      <td>Meet...The CREEPER!</td>\n",
       "      <td>House of Horrors</td>\n",
       "      <td>False</td>\n",
       "      <td>6.3</td>\n",
       "      <td>8.0</td>\n",
       "    </tr>\n",
       "    <tr>\n",
       "      <th>45457</th>\n",
       "      <td>False</td>\n",
       "      <td>NaN</td>\n",
       "      <td>0</td>\n",
       "      <td>[{'id': 9648, 'name': 'Mystery'}, {'id': 27, '...</td>\n",
       "      <td>NaN</td>\n",
       "      <td>390959</td>\n",
       "      <td>tt0265736</td>\n",
       "      <td>en</td>\n",
       "      <td>Shadow of the Blair Witch</td>\n",
       "      <td>In this true-crime documentary, we delve into ...</td>\n",
       "      <td>...</td>\n",
       "      <td>2000-10-22</td>\n",
       "      <td>0.0</td>\n",
       "      <td>45.0</td>\n",
       "      <td>[{'iso_639_1': 'en', 'name': 'English'}]</td>\n",
       "      <td>Released</td>\n",
       "      <td>NaN</td>\n",
       "      <td>Shadow of the Blair Witch</td>\n",
       "      <td>False</td>\n",
       "      <td>7.0</td>\n",
       "      <td>2.0</td>\n",
       "    </tr>\n",
       "    <tr>\n",
       "      <th>45458</th>\n",
       "      <td>False</td>\n",
       "      <td>NaN</td>\n",
       "      <td>0</td>\n",
       "      <td>[{'id': 27, 'name': 'Horror'}]</td>\n",
       "      <td>NaN</td>\n",
       "      <td>289923</td>\n",
       "      <td>tt0252966</td>\n",
       "      <td>en</td>\n",
       "      <td>The Burkittsville 7</td>\n",
       "      <td>A film archivist revisits the story of Rustin ...</td>\n",
       "      <td>...</td>\n",
       "      <td>2000-10-03</td>\n",
       "      <td>0.0</td>\n",
       "      <td>30.0</td>\n",
       "      <td>[{'iso_639_1': 'en', 'name': 'English'}]</td>\n",
       "      <td>Released</td>\n",
       "      <td>Do you know what happened 50 years before \"The...</td>\n",
       "      <td>The Burkittsville 7</td>\n",
       "      <td>False</td>\n",
       "      <td>7.0</td>\n",
       "      <td>1.0</td>\n",
       "    </tr>\n",
       "    <tr>\n",
       "      <th>45459</th>\n",
       "      <td>False</td>\n",
       "      <td>NaN</td>\n",
       "      <td>0</td>\n",
       "      <td>[{'id': 878, 'name': 'Science Fiction'}]</td>\n",
       "      <td>NaN</td>\n",
       "      <td>222848</td>\n",
       "      <td>tt0112613</td>\n",
       "      <td>en</td>\n",
       "      <td>Caged Heat 3000</td>\n",
       "      <td>It's the year 3000 AD. The world's most danger...</td>\n",
       "      <td>...</td>\n",
       "      <td>1995-01-01</td>\n",
       "      <td>0.0</td>\n",
       "      <td>85.0</td>\n",
       "      <td>[{'iso_639_1': 'en', 'name': 'English'}]</td>\n",
       "      <td>Released</td>\n",
       "      <td>NaN</td>\n",
       "      <td>Caged Heat 3000</td>\n",
       "      <td>False</td>\n",
       "      <td>3.5</td>\n",
       "      <td>1.0</td>\n",
       "    </tr>\n",
       "    <tr>\n",
       "      <th>45460</th>\n",
       "      <td>False</td>\n",
       "      <td>NaN</td>\n",
       "      <td>0</td>\n",
       "      <td>[{'id': 18, 'name': 'Drama'}, {'id': 28, 'name...</td>\n",
       "      <td>NaN</td>\n",
       "      <td>30840</td>\n",
       "      <td>tt0102797</td>\n",
       "      <td>en</td>\n",
       "      <td>Robin Hood</td>\n",
       "      <td>Yet another version of the classic epic, with ...</td>\n",
       "      <td>...</td>\n",
       "      <td>1991-05-13</td>\n",
       "      <td>0.0</td>\n",
       "      <td>104.0</td>\n",
       "      <td>[{'iso_639_1': 'en', 'name': 'English'}]</td>\n",
       "      <td>Released</td>\n",
       "      <td>NaN</td>\n",
       "      <td>Robin Hood</td>\n",
       "      <td>False</td>\n",
       "      <td>5.7</td>\n",
       "      <td>26.0</td>\n",
       "    </tr>\n",
       "    <tr>\n",
       "      <th>45461</th>\n",
       "      <td>False</td>\n",
       "      <td>NaN</td>\n",
       "      <td>0</td>\n",
       "      <td>[{'id': 18, 'name': 'Drama'}, {'id': 10751, 'n...</td>\n",
       "      <td>http://www.imdb.com/title/tt6209470/</td>\n",
       "      <td>439050</td>\n",
       "      <td>tt6209470</td>\n",
       "      <td>fa</td>\n",
       "      <td>رگ خواب</td>\n",
       "      <td>Rising and falling between a man and woman.</td>\n",
       "      <td>...</td>\n",
       "      <td>NaN</td>\n",
       "      <td>0.0</td>\n",
       "      <td>90.0</td>\n",
       "      <td>[{'iso_639_1': 'fa', 'name': 'فارسی'}]</td>\n",
       "      <td>Released</td>\n",
       "      <td>Rising and falling between a man and woman</td>\n",
       "      <td>Subdue</td>\n",
       "      <td>False</td>\n",
       "      <td>4.0</td>\n",
       "      <td>1.0</td>\n",
       "    </tr>\n",
       "    <tr>\n",
       "      <th>45462</th>\n",
       "      <td>False</td>\n",
       "      <td>NaN</td>\n",
       "      <td>0</td>\n",
       "      <td>[{'id': 18, 'name': 'Drama'}]</td>\n",
       "      <td>NaN</td>\n",
       "      <td>111109</td>\n",
       "      <td>tt2028550</td>\n",
       "      <td>tl</td>\n",
       "      <td>Siglo ng Pagluluwal</td>\n",
       "      <td>An artist struggles to finish his work while a...</td>\n",
       "      <td>...</td>\n",
       "      <td>2011-11-17</td>\n",
       "      <td>0.0</td>\n",
       "      <td>360.0</td>\n",
       "      <td>[{'iso_639_1': 'tl', 'name': ''}]</td>\n",
       "      <td>Released</td>\n",
       "      <td>NaN</td>\n",
       "      <td>Century of Birthing</td>\n",
       "      <td>False</td>\n",
       "      <td>9.0</td>\n",
       "      <td>3.0</td>\n",
       "    </tr>\n",
       "    <tr>\n",
       "      <th>45463</th>\n",
       "      <td>False</td>\n",
       "      <td>NaN</td>\n",
       "      <td>0</td>\n",
       "      <td>[{'id': 28, 'name': 'Action'}, {'id': 18, 'nam...</td>\n",
       "      <td>NaN</td>\n",
       "      <td>67758</td>\n",
       "      <td>tt0303758</td>\n",
       "      <td>en</td>\n",
       "      <td>Betrayal</td>\n",
       "      <td>When one of her hits goes wrong, a professiona...</td>\n",
       "      <td>...</td>\n",
       "      <td>2003-08-01</td>\n",
       "      <td>0.0</td>\n",
       "      <td>90.0</td>\n",
       "      <td>[{'iso_639_1': 'en', 'name': 'English'}]</td>\n",
       "      <td>Released</td>\n",
       "      <td>A deadly game of wits.</td>\n",
       "      <td>Betrayal</td>\n",
       "      <td>False</td>\n",
       "      <td>3.8</td>\n",
       "      <td>6.0</td>\n",
       "    </tr>\n",
       "    <tr>\n",
       "      <th>45464</th>\n",
       "      <td>False</td>\n",
       "      <td>NaN</td>\n",
       "      <td>0</td>\n",
       "      <td>[]</td>\n",
       "      <td>NaN</td>\n",
       "      <td>227506</td>\n",
       "      <td>tt0008536</td>\n",
       "      <td>en</td>\n",
       "      <td>Satana likuyushchiy</td>\n",
       "      <td>In a small town live two brothers, one a minis...</td>\n",
       "      <td>...</td>\n",
       "      <td>1917-10-21</td>\n",
       "      <td>0.0</td>\n",
       "      <td>87.0</td>\n",
       "      <td>[]</td>\n",
       "      <td>Released</td>\n",
       "      <td>NaN</td>\n",
       "      <td>Satan Triumphant</td>\n",
       "      <td>False</td>\n",
       "      <td>0.0</td>\n",
       "      <td>0.0</td>\n",
       "    </tr>\n",
       "    <tr>\n",
       "      <th>45465</th>\n",
       "      <td>False</td>\n",
       "      <td>NaN</td>\n",
       "      <td>0</td>\n",
       "      <td>[]</td>\n",
       "      <td>NaN</td>\n",
       "      <td>461257</td>\n",
       "      <td>tt6980792</td>\n",
       "      <td>en</td>\n",
       "      <td>Queerama</td>\n",
       "      <td>50 years after decriminalisation of homosexual...</td>\n",
       "      <td>...</td>\n",
       "      <td>2017-06-09</td>\n",
       "      <td>0.0</td>\n",
       "      <td>75.0</td>\n",
       "      <td>[{'iso_639_1': 'en', 'name': 'English'}]</td>\n",
       "      <td>Released</td>\n",
       "      <td>NaN</td>\n",
       "      <td>Queerama</td>\n",
       "      <td>False</td>\n",
       "      <td>0.0</td>\n",
       "      <td>0.0</td>\n",
       "    </tr>\n",
       "  </tbody>\n",
       "</table>\n",
       "<p>10 rows × 24 columns</p>\n",
       "</div>"
      ],
      "text/plain": [
       "       adult belongs_to_collection budget  \\\n",
       "45456  False                   NaN      0   \n",
       "45457  False                   NaN      0   \n",
       "45458  False                   NaN      0   \n",
       "45459  False                   NaN      0   \n",
       "45460  False                   NaN      0   \n",
       "45461  False                   NaN      0   \n",
       "45462  False                   NaN      0   \n",
       "45463  False                   NaN      0   \n",
       "45464  False                   NaN      0   \n",
       "45465  False                   NaN      0   \n",
       "\n",
       "                                                  genres  \\\n",
       "45456  [{'id': 27, 'name': 'Horror'}, {'id': 9648, 'n...   \n",
       "45457  [{'id': 9648, 'name': 'Mystery'}, {'id': 27, '...   \n",
       "45458                     [{'id': 27, 'name': 'Horror'}]   \n",
       "45459           [{'id': 878, 'name': 'Science Fiction'}]   \n",
       "45460  [{'id': 18, 'name': 'Drama'}, {'id': 28, 'name...   \n",
       "45461  [{'id': 18, 'name': 'Drama'}, {'id': 10751, 'n...   \n",
       "45462                      [{'id': 18, 'name': 'Drama'}]   \n",
       "45463  [{'id': 28, 'name': 'Action'}, {'id': 18, 'nam...   \n",
       "45464                                                 []   \n",
       "45465                                                 []   \n",
       "\n",
       "                                   homepage      id    imdb_id  \\\n",
       "45456                                   NaN   84419  tt0038621   \n",
       "45457                                   NaN  390959  tt0265736   \n",
       "45458                                   NaN  289923  tt0252966   \n",
       "45459                                   NaN  222848  tt0112613   \n",
       "45460                                   NaN   30840  tt0102797   \n",
       "45461  http://www.imdb.com/title/tt6209470/  439050  tt6209470   \n",
       "45462                                   NaN  111109  tt2028550   \n",
       "45463                                   NaN   67758  tt0303758   \n",
       "45464                                   NaN  227506  tt0008536   \n",
       "45465                                   NaN  461257  tt6980792   \n",
       "\n",
       "      original_language             original_title  \\\n",
       "45456                en           House of Horrors   \n",
       "45457                en  Shadow of the Blair Witch   \n",
       "45458                en        The Burkittsville 7   \n",
       "45459                en            Caged Heat 3000   \n",
       "45460                en                 Robin Hood   \n",
       "45461                fa                    رگ خواب   \n",
       "45462                tl        Siglo ng Pagluluwal   \n",
       "45463                en                   Betrayal   \n",
       "45464                en        Satana likuyushchiy   \n",
       "45465                en                   Queerama   \n",
       "\n",
       "                                                overview  ... release_date  \\\n",
       "45456  An unsuccessful sculptor saves a madman named ...  ...   1946-03-29   \n",
       "45457  In this true-crime documentary, we delve into ...  ...   2000-10-22   \n",
       "45458  A film archivist revisits the story of Rustin ...  ...   2000-10-03   \n",
       "45459  It's the year 3000 AD. The world's most danger...  ...   1995-01-01   \n",
       "45460  Yet another version of the classic epic, with ...  ...   1991-05-13   \n",
       "45461        Rising and falling between a man and woman.  ...          NaN   \n",
       "45462  An artist struggles to finish his work while a...  ...   2011-11-17   \n",
       "45463  When one of her hits goes wrong, a professiona...  ...   2003-08-01   \n",
       "45464  In a small town live two brothers, one a minis...  ...   1917-10-21   \n",
       "45465  50 years after decriminalisation of homosexual...  ...   2017-06-09   \n",
       "\n",
       "      revenue runtime                          spoken_languages    status  \\\n",
       "45456     0.0    65.0  [{'iso_639_1': 'en', 'name': 'English'}]  Released   \n",
       "45457     0.0    45.0  [{'iso_639_1': 'en', 'name': 'English'}]  Released   \n",
       "45458     0.0    30.0  [{'iso_639_1': 'en', 'name': 'English'}]  Released   \n",
       "45459     0.0    85.0  [{'iso_639_1': 'en', 'name': 'English'}]  Released   \n",
       "45460     0.0   104.0  [{'iso_639_1': 'en', 'name': 'English'}]  Released   \n",
       "45461     0.0    90.0    [{'iso_639_1': 'fa', 'name': 'فارسی'}]  Released   \n",
       "45462     0.0   360.0         [{'iso_639_1': 'tl', 'name': ''}]  Released   \n",
       "45463     0.0    90.0  [{'iso_639_1': 'en', 'name': 'English'}]  Released   \n",
       "45464     0.0    87.0                                        []  Released   \n",
       "45465     0.0    75.0  [{'iso_639_1': 'en', 'name': 'English'}]  Released   \n",
       "\n",
       "                                                 tagline  \\\n",
       "45456                                Meet...The CREEPER!   \n",
       "45457                                                NaN   \n",
       "45458  Do you know what happened 50 years before \"The...   \n",
       "45459                                                NaN   \n",
       "45460                                                NaN   \n",
       "45461         Rising and falling between a man and woman   \n",
       "45462                                                NaN   \n",
       "45463                             A deadly game of wits.   \n",
       "45464                                                NaN   \n",
       "45465                                                NaN   \n",
       "\n",
       "                           title  video vote_average vote_count  \n",
       "45456           House of Horrors  False          6.3        8.0  \n",
       "45457  Shadow of the Blair Witch  False          7.0        2.0  \n",
       "45458        The Burkittsville 7  False          7.0        1.0  \n",
       "45459            Caged Heat 3000  False          3.5        1.0  \n",
       "45460                 Robin Hood  False          5.7       26.0  \n",
       "45461                     Subdue  False          4.0        1.0  \n",
       "45462        Century of Birthing  False          9.0        3.0  \n",
       "45463                   Betrayal  False          3.8        6.0  \n",
       "45464           Satan Triumphant  False          0.0        0.0  \n",
       "45465                   Queerama  False          0.0        0.0  \n",
       "\n",
       "[10 rows x 24 columns]"
      ]
     },
     "execution_count": 5,
     "metadata": {},
     "output_type": "execute_result"
    }
   ],
   "source": [
    "# Viewing last 10 rows of the data\n",
    "movies.tail(10)"
   ]
  },
  {
   "cell_type": "code",
   "execution_count": 6,
   "id": "dd3d69a5",
   "metadata": {},
   "outputs": [
    {
     "data": {
      "text/html": [
       "<div>\n",
       "<style scoped>\n",
       "    .dataframe tbody tr th:only-of-type {\n",
       "        vertical-align: middle;\n",
       "    }\n",
       "\n",
       "    .dataframe tbody tr th {\n",
       "        vertical-align: top;\n",
       "    }\n",
       "\n",
       "    .dataframe thead th {\n",
       "        text-align: right;\n",
       "    }\n",
       "</style>\n",
       "<table border=\"1\" class=\"dataframe\">\n",
       "  <thead>\n",
       "    <tr style=\"text-align: right;\">\n",
       "      <th></th>\n",
       "      <th>adult</th>\n",
       "      <th>belongs_to_collection</th>\n",
       "      <th>budget</th>\n",
       "      <th>genres</th>\n",
       "      <th>homepage</th>\n",
       "      <th>id</th>\n",
       "      <th>imdb_id</th>\n",
       "      <th>original_language</th>\n",
       "      <th>original_title</th>\n",
       "      <th>overview</th>\n",
       "      <th>...</th>\n",
       "      <th>release_date</th>\n",
       "      <th>revenue</th>\n",
       "      <th>runtime</th>\n",
       "      <th>spoken_languages</th>\n",
       "      <th>status</th>\n",
       "      <th>tagline</th>\n",
       "      <th>title</th>\n",
       "      <th>video</th>\n",
       "      <th>vote_average</th>\n",
       "      <th>vote_count</th>\n",
       "    </tr>\n",
       "  </thead>\n",
       "  <tbody>\n",
       "    <tr>\n",
       "      <th>37296</th>\n",
       "      <td>False</td>\n",
       "      <td>NaN</td>\n",
       "      <td>800000</td>\n",
       "      <td>[{'id': 35, 'name': 'Comedy'}, {'id': 10749, '...</td>\n",
       "      <td>NaN</td>\n",
       "      <td>85277</td>\n",
       "      <td>tt0800164</td>\n",
       "      <td>nl</td>\n",
       "      <td>'N Beetje Verliefd</td>\n",
       "      <td>Thijs is a ripe-age Dutch tomato grower. His a...</td>\n",
       "      <td>...</td>\n",
       "      <td>2006-12-14</td>\n",
       "      <td>966214.0</td>\n",
       "      <td>83.0</td>\n",
       "      <td>[{'iso_639_1': 'nl', 'name': 'Nederlands'}]</td>\n",
       "      <td>Released</td>\n",
       "      <td>NaN</td>\n",
       "      <td>Happy Family</td>\n",
       "      <td>False</td>\n",
       "      <td>6.0</td>\n",
       "      <td>1.0</td>\n",
       "    </tr>\n",
       "    <tr>\n",
       "      <th>34493</th>\n",
       "      <td>False</td>\n",
       "      <td>NaN</td>\n",
       "      <td>0</td>\n",
       "      <td>[{'id': 35, 'name': 'Comedy'}, {'id': 10751, '...</td>\n",
       "      <td>NaN</td>\n",
       "      <td>80277</td>\n",
       "      <td>tt1779826</td>\n",
       "      <td>en</td>\n",
       "      <td>Maktub</td>\n",
       "      <td>The title refers to those strange coincidences...</td>\n",
       "      <td>...</td>\n",
       "      <td>2011-12-16</td>\n",
       "      <td>0.0</td>\n",
       "      <td>115.0</td>\n",
       "      <td>[{'iso_639_1': 'es', 'name': 'Español'}]</td>\n",
       "      <td>Released</td>\n",
       "      <td>NaN</td>\n",
       "      <td>Maktub</td>\n",
       "      <td>False</td>\n",
       "      <td>6.2</td>\n",
       "      <td>10.0</td>\n",
       "    </tr>\n",
       "    <tr>\n",
       "      <th>2377</th>\n",
       "      <td>False</td>\n",
       "      <td>NaN</td>\n",
       "      <td>90000000</td>\n",
       "      <td>[{'id': 18, 'name': 'Drama'}, {'id': 28, 'name...</td>\n",
       "      <td>NaN</td>\n",
       "      <td>2112</td>\n",
       "      <td>tt0120784</td>\n",
       "      <td>en</td>\n",
       "      <td>Payback</td>\n",
       "      <td>With friends like these, who needs enemies? Th...</td>\n",
       "      <td>...</td>\n",
       "      <td>1999-02-05</td>\n",
       "      <td>161626121.0</td>\n",
       "      <td>100.0</td>\n",
       "      <td>[{'iso_639_1': 'en', 'name': 'English'}]</td>\n",
       "      <td>Released</td>\n",
       "      <td>No More Mr. Nice Guy.</td>\n",
       "      <td>Payback</td>\n",
       "      <td>False</td>\n",
       "      <td>6.7</td>\n",
       "      <td>557.0</td>\n",
       "    </tr>\n",
       "    <tr>\n",
       "      <th>8779</th>\n",
       "      <td>False</td>\n",
       "      <td>NaN</td>\n",
       "      <td>0</td>\n",
       "      <td>[{'id': 28, 'name': 'Action'}, {'id': 18, 'nam...</td>\n",
       "      <td>NaN</td>\n",
       "      <td>72412</td>\n",
       "      <td>tt0077272</td>\n",
       "      <td>en</td>\n",
       "      <td>Brass Target</td>\n",
       "      <td>General George S. Patton died in a car acciden...</td>\n",
       "      <td>...</td>\n",
       "      <td>1978-12-22</td>\n",
       "      <td>0.0</td>\n",
       "      <td>111.0</td>\n",
       "      <td>[{'iso_639_1': 'en', 'name': 'English'}, {'iso...</td>\n",
       "      <td>Released</td>\n",
       "      <td>The Nazis hid it. The Russians want it. The Am...</td>\n",
       "      <td>Brass Target</td>\n",
       "      <td>False</td>\n",
       "      <td>6.6</td>\n",
       "      <td>5.0</td>\n",
       "    </tr>\n",
       "    <tr>\n",
       "      <th>33361</th>\n",
       "      <td>False</td>\n",
       "      <td>NaN</td>\n",
       "      <td>18000000</td>\n",
       "      <td>[{'id': 18, 'name': 'Drama'}, {'id': 53, 'name...</td>\n",
       "      <td>http://wearethecircle.com/</td>\n",
       "      <td>339988</td>\n",
       "      <td>tt4287320</td>\n",
       "      <td>en</td>\n",
       "      <td>The Circle</td>\n",
       "      <td>A young tech worker takes a job at a greedy In...</td>\n",
       "      <td>...</td>\n",
       "      <td>2017-04-27</td>\n",
       "      <td>20497844.0</td>\n",
       "      <td>110.0</td>\n",
       "      <td>[{'iso_639_1': 'en', 'name': 'English'}]</td>\n",
       "      <td>Released</td>\n",
       "      <td>Knowing is good. Knowing everything is better.</td>\n",
       "      <td>The Circle</td>\n",
       "      <td>False</td>\n",
       "      <td>5.4</td>\n",
       "      <td>1015.0</td>\n",
       "    </tr>\n",
       "  </tbody>\n",
       "</table>\n",
       "<p>5 rows × 24 columns</p>\n",
       "</div>"
      ],
      "text/plain": [
       "       adult belongs_to_collection    budget  \\\n",
       "37296  False                   NaN    800000   \n",
       "34493  False                   NaN         0   \n",
       "2377   False                   NaN  90000000   \n",
       "8779   False                   NaN         0   \n",
       "33361  False                   NaN  18000000   \n",
       "\n",
       "                                                  genres  \\\n",
       "37296  [{'id': 35, 'name': 'Comedy'}, {'id': 10749, '...   \n",
       "34493  [{'id': 35, 'name': 'Comedy'}, {'id': 10751, '...   \n",
       "2377   [{'id': 18, 'name': 'Drama'}, {'id': 28, 'name...   \n",
       "8779   [{'id': 28, 'name': 'Action'}, {'id': 18, 'nam...   \n",
       "33361  [{'id': 18, 'name': 'Drama'}, {'id': 53, 'name...   \n",
       "\n",
       "                         homepage      id    imdb_id original_language  \\\n",
       "37296                         NaN   85277  tt0800164                nl   \n",
       "34493                         NaN   80277  tt1779826                en   \n",
       "2377                          NaN    2112  tt0120784                en   \n",
       "8779                          NaN   72412  tt0077272                en   \n",
       "33361  http://wearethecircle.com/  339988  tt4287320                en   \n",
       "\n",
       "           original_title                                           overview  \\\n",
       "37296  'N Beetje Verliefd  Thijs is a ripe-age Dutch tomato grower. His a...   \n",
       "34493              Maktub  The title refers to those strange coincidences...   \n",
       "2377              Payback  With friends like these, who needs enemies? Th...   \n",
       "8779         Brass Target  General George S. Patton died in a car acciden...   \n",
       "33361          The Circle  A young tech worker takes a job at a greedy In...   \n",
       "\n",
       "       ... release_date      revenue runtime  \\\n",
       "37296  ...   2006-12-14     966214.0    83.0   \n",
       "34493  ...   2011-12-16          0.0   115.0   \n",
       "2377   ...   1999-02-05  161626121.0   100.0   \n",
       "8779   ...   1978-12-22          0.0   111.0   \n",
       "33361  ...   2017-04-27   20497844.0   110.0   \n",
       "\n",
       "                                        spoken_languages    status  \\\n",
       "37296        [{'iso_639_1': 'nl', 'name': 'Nederlands'}]  Released   \n",
       "34493           [{'iso_639_1': 'es', 'name': 'Español'}]  Released   \n",
       "2377            [{'iso_639_1': 'en', 'name': 'English'}]  Released   \n",
       "8779   [{'iso_639_1': 'en', 'name': 'English'}, {'iso...  Released   \n",
       "33361           [{'iso_639_1': 'en', 'name': 'English'}]  Released   \n",
       "\n",
       "                                                 tagline         title  video  \\\n",
       "37296                                                NaN  Happy Family  False   \n",
       "34493                                                NaN        Maktub  False   \n",
       "2377                               No More Mr. Nice Guy.       Payback  False   \n",
       "8779   The Nazis hid it. The Russians want it. The Am...  Brass Target  False   \n",
       "33361     Knowing is good. Knowing everything is better.    The Circle  False   \n",
       "\n",
       "      vote_average vote_count  \n",
       "37296          6.0        1.0  \n",
       "34493          6.2       10.0  \n",
       "2377           6.7      557.0  \n",
       "8779           6.6        5.0  \n",
       "33361          5.4     1015.0  \n",
       "\n",
       "[5 rows x 24 columns]"
      ]
     },
     "execution_count": 6,
     "metadata": {},
     "output_type": "execute_result"
    }
   ],
   "source": [
    "# Viewing random 5 rows of the data\n",
    "movies.sample(5)"
   ]
  },
  {
   "cell_type": "code",
   "execution_count": 7,
   "id": "a64f4a22",
   "metadata": {},
   "outputs": [
    {
     "data": {
      "text/plain": [
       "Index(['adult', 'belongs_to_collection', 'budget', 'genres', 'homepage', 'id',\n",
       "       'imdb_id', 'original_language', 'original_title', 'overview',\n",
       "       'popularity', 'poster_path', 'production_companies',\n",
       "       'production_countries', 'release_date', 'revenue', 'runtime',\n",
       "       'spoken_languages', 'status', 'tagline', 'title', 'video',\n",
       "       'vote_average', 'vote_count'],\n",
       "      dtype='object')"
      ]
     },
     "execution_count": 7,
     "metadata": {},
     "output_type": "execute_result"
    }
   ],
   "source": [
    "# Viewing the list of all the columns in this dataset\n",
    "movies.columns"
   ]
  },
  {
   "cell_type": "code",
   "execution_count": 8,
   "id": "9aa0a9a0",
   "metadata": {},
   "outputs": [
    {
     "data": {
      "text/plain": [
       "adult                     object\n",
       "belongs_to_collection     object\n",
       "budget                    object\n",
       "genres                    object\n",
       "homepage                  object\n",
       "id                        object\n",
       "imdb_id                   object\n",
       "original_language         object\n",
       "original_title            object\n",
       "overview                  object\n",
       "popularity                object\n",
       "poster_path               object\n",
       "production_companies      object\n",
       "production_countries      object\n",
       "release_date              object\n",
       "revenue                  float64\n",
       "runtime                  float64\n",
       "spoken_languages          object\n",
       "status                    object\n",
       "tagline                   object\n",
       "title                     object\n",
       "video                     object\n",
       "vote_average             float64\n",
       "vote_count               float64\n",
       "dtype: object"
      ]
     },
     "execution_count": 8,
     "metadata": {},
     "output_type": "execute_result"
    }
   ],
   "source": [
    "movies.dtypes"
   ]
  },
  {
   "cell_type": "code",
   "execution_count": 9,
   "id": "a1c9b5e1",
   "metadata": {},
   "outputs": [
    {
     "data": {
      "text/html": [
       "<div>\n",
       "<style scoped>\n",
       "    .dataframe tbody tr th:only-of-type {\n",
       "        vertical-align: middle;\n",
       "    }\n",
       "\n",
       "    .dataframe tbody tr th {\n",
       "        vertical-align: top;\n",
       "    }\n",
       "\n",
       "    .dataframe thead th {\n",
       "        text-align: right;\n",
       "    }\n",
       "</style>\n",
       "<table border=\"1\" class=\"dataframe\">\n",
       "  <thead>\n",
       "    <tr style=\"text-align: right;\">\n",
       "      <th></th>\n",
       "      <th>revenue</th>\n",
       "      <th>runtime</th>\n",
       "      <th>vote_average</th>\n",
       "      <th>vote_count</th>\n",
       "    </tr>\n",
       "  </thead>\n",
       "  <tbody>\n",
       "    <tr>\n",
       "      <th>count</th>\n",
       "      <td>4.546000e+04</td>\n",
       "      <td>45203.000000</td>\n",
       "      <td>45460.000000</td>\n",
       "      <td>45460.000000</td>\n",
       "    </tr>\n",
       "    <tr>\n",
       "      <th>mean</th>\n",
       "      <td>1.120935e+07</td>\n",
       "      <td>94.128199</td>\n",
       "      <td>5.618207</td>\n",
       "      <td>109.897338</td>\n",
       "    </tr>\n",
       "    <tr>\n",
       "      <th>std</th>\n",
       "      <td>6.433225e+07</td>\n",
       "      <td>38.407810</td>\n",
       "      <td>1.924216</td>\n",
       "      <td>491.310374</td>\n",
       "    </tr>\n",
       "    <tr>\n",
       "      <th>min</th>\n",
       "      <td>0.000000e+00</td>\n",
       "      <td>0.000000</td>\n",
       "      <td>0.000000</td>\n",
       "      <td>0.000000</td>\n",
       "    </tr>\n",
       "    <tr>\n",
       "      <th>25%</th>\n",
       "      <td>0.000000e+00</td>\n",
       "      <td>85.000000</td>\n",
       "      <td>5.000000</td>\n",
       "      <td>3.000000</td>\n",
       "    </tr>\n",
       "    <tr>\n",
       "      <th>50%</th>\n",
       "      <td>0.000000e+00</td>\n",
       "      <td>95.000000</td>\n",
       "      <td>6.000000</td>\n",
       "      <td>10.000000</td>\n",
       "    </tr>\n",
       "    <tr>\n",
       "      <th>75%</th>\n",
       "      <td>0.000000e+00</td>\n",
       "      <td>107.000000</td>\n",
       "      <td>6.800000</td>\n",
       "      <td>34.000000</td>\n",
       "    </tr>\n",
       "    <tr>\n",
       "      <th>max</th>\n",
       "      <td>2.787965e+09</td>\n",
       "      <td>1256.000000</td>\n",
       "      <td>10.000000</td>\n",
       "      <td>14075.000000</td>\n",
       "    </tr>\n",
       "  </tbody>\n",
       "</table>\n",
       "</div>"
      ],
      "text/plain": [
       "            revenue       runtime  vote_average    vote_count\n",
       "count  4.546000e+04  45203.000000  45460.000000  45460.000000\n",
       "mean   1.120935e+07     94.128199      5.618207    109.897338\n",
       "std    6.433225e+07     38.407810      1.924216    491.310374\n",
       "min    0.000000e+00      0.000000      0.000000      0.000000\n",
       "25%    0.000000e+00     85.000000      5.000000      3.000000\n",
       "50%    0.000000e+00     95.000000      6.000000     10.000000\n",
       "75%    0.000000e+00    107.000000      6.800000     34.000000\n",
       "max    2.787965e+09   1256.000000     10.000000  14075.000000"
      ]
     },
     "execution_count": 9,
     "metadata": {},
     "output_type": "execute_result"
    }
   ],
   "source": [
    "# Mathematical look of the data\n",
    "movies.describe()"
   ]
  },
  {
   "cell_type": "code",
   "execution_count": 10,
   "id": "69f5b89b",
   "metadata": {},
   "outputs": [
    {
     "name": "stdout",
     "output_type": "stream",
     "text": [
      "<class 'pandas.core.frame.DataFrame'>\n",
      "RangeIndex: 45466 entries, 0 to 45465\n",
      "Data columns (total 24 columns):\n",
      " #   Column                 Non-Null Count  Dtype  \n",
      "---  ------                 --------------  -----  \n",
      " 0   adult                  45466 non-null  object \n",
      " 1   belongs_to_collection  4494 non-null   object \n",
      " 2   budget                 45466 non-null  object \n",
      " 3   genres                 45466 non-null  object \n",
      " 4   homepage               7782 non-null   object \n",
      " 5   id                     45466 non-null  object \n",
      " 6   imdb_id                45449 non-null  object \n",
      " 7   original_language      45455 non-null  object \n",
      " 8   original_title         45466 non-null  object \n",
      " 9   overview               44512 non-null  object \n",
      " 10  popularity             45461 non-null  object \n",
      " 11  poster_path            45080 non-null  object \n",
      " 12  production_companies   45463 non-null  object \n",
      " 13  production_countries   45463 non-null  object \n",
      " 14  release_date           45379 non-null  object \n",
      " 15  revenue                45460 non-null  float64\n",
      " 16  runtime                45203 non-null  float64\n",
      " 17  spoken_languages       45460 non-null  object \n",
      " 18  status                 45379 non-null  object \n",
      " 19  tagline                20412 non-null  object \n",
      " 20  title                  45460 non-null  object \n",
      " 21  video                  45460 non-null  object \n",
      " 22  vote_average           45460 non-null  float64\n",
      " 23  vote_count             45460 non-null  float64\n",
      "dtypes: float64(4), object(20)\n",
      "memory usage: 8.3+ MB\n"
     ]
    }
   ],
   "source": [
    "movies.info()"
   ]
  },
  {
   "cell_type": "code",
   "execution_count": 11,
   "id": "a379291f",
   "metadata": {},
   "outputs": [
    {
     "data": {
      "text/plain": [
       "adult                        0\n",
       "belongs_to_collection    40972\n",
       "budget                       0\n",
       "genres                       0\n",
       "homepage                 37684\n",
       "id                           0\n",
       "imdb_id                     17\n",
       "original_language           11\n",
       "original_title               0\n",
       "overview                   954\n",
       "popularity                   5\n",
       "poster_path                386\n",
       "production_companies         3\n",
       "production_countries         3\n",
       "release_date                87\n",
       "revenue                      6\n",
       "runtime                    263\n",
       "spoken_languages             6\n",
       "status                      87\n",
       "tagline                  25054\n",
       "title                        6\n",
       "video                        6\n",
       "vote_average                 6\n",
       "vote_count                   6\n",
       "dtype: int64"
      ]
     },
     "execution_count": 11,
     "metadata": {},
     "output_type": "execute_result"
    }
   ],
   "source": [
    "# Number of null values in each column\n",
    "movies.isnull().sum()"
   ]
  },
  {
   "cell_type": "code",
   "execution_count": 12,
   "id": "4f724530",
   "metadata": {},
   "outputs": [
    {
     "data": {
      "text/plain": [
       "13"
      ]
     },
     "execution_count": 12,
     "metadata": {},
     "output_type": "execute_result"
    }
   ],
   "source": [
    "# Checking for duplicate number of rows in the data\n",
    "movies.duplicated().sum()"
   ]
  },
  {
   "cell_type": "code",
   "execution_count": 13,
   "id": "a11bab95",
   "metadata": {},
   "outputs": [
    {
     "data": {
      "text/plain": [
       "False                                                                                                                             45454\n",
       "True                                                                                                                                  9\n",
       " - Written by Ørnås                                                                                                                   1\n",
       " Rune Balot goes to a casino connected to the October corporation to try to wrap up her case once and for all.                        1\n",
       " Avalanche Sharks tells the story of a bikini contest that turns into a horrifying affair when it is hit by a shark avalanche.        1\n",
       "Name: adult, dtype: int64"
      ]
     },
     "execution_count": 13,
     "metadata": {},
     "output_type": "execute_result"
    }
   ],
   "source": [
    "movies['adult'].value_counts()"
   ]
  },
  {
   "cell_type": "code",
   "execution_count": 14,
   "id": "cc655ad0",
   "metadata": {},
   "outputs": [
    {
     "data": {
      "text/plain": [
       "en       32269\n",
       "fr        2438\n",
       "it        1529\n",
       "ja        1350\n",
       "de        1080\n",
       "         ...  \n",
       "zu           1\n",
       "qu           1\n",
       "104.0        1\n",
       "la           1\n",
       "si           1\n",
       "Name: original_language, Length: 92, dtype: int64"
      ]
     },
     "execution_count": 14,
     "metadata": {},
     "output_type": "execute_result"
    }
   ],
   "source": [
    "movies['original_language'].value_counts()"
   ]
  },
  {
   "cell_type": "code",
   "execution_count": 15,
   "id": "623a9f70",
   "metadata": {},
   "outputs": [
    {
     "data": {
      "text/plain": [
       "en    32269\n",
       "fr     2438\n",
       "it     1529\n",
       "ja     1350\n",
       "de     1080\n",
       "Name: original_language, dtype: int64"
      ]
     },
     "execution_count": 15,
     "metadata": {},
     "output_type": "execute_result"
    }
   ],
   "source": [
    "movies['original_language'].value_counts()[0:5]"
   ]
  },
  {
   "cell_type": "code",
   "execution_count": 16,
   "id": "3bdab6a5",
   "metadata": {},
   "outputs": [
    {
     "data": {
      "image/png": "[encoded data removed]",
      "text/plain": [
       "<Figure size 720x360 with 1 Axes>"
      ]
     },
     "metadata": {
      "needs_background": "light"
     },
     "output_type": "display_data"
    }
   ],
   "source": [
    "plt.figure(figsize=(10,5))\n",
    "plt.bar(list(movies['original_language'].value_counts()[0:5].keys()),list(movies['original_language'].value_counts()[0:5]))\n",
    "plt.show()"
   ]
  },
  {
   "cell_type": "code",
   "execution_count": 17,
   "id": "aa8d4461",
   "metadata": {
    "scrolled": true
   },
   "outputs": [
    {
     "data": {
      "image/png": "[encoded data removed]",
      "text/plain": [
       "<Figure size 720x360 with 1 Axes>"
      ]
     },
     "metadata": {
      "needs_background": "light"
     },
     "output_type": "display_data"
    }
   ],
   "source": [
    "plt.figure(figsize=(10,5))\n",
    "plt.hist(movies['vote_average'])\n",
    "plt.show()"
   ]
  },
  {
   "cell_type": "code",
   "execution_count": 18,
   "id": "100ed577",
   "metadata": {},
   "outputs": [
    {
     "data": {
      "text/plain": [
       "13                                                  Nixon\n",
       "358      The Wonderful, Horrible Life of Leni Riefenstahl\n",
       "378                                            Wyatt Earp\n",
       "522                                      Schindler's List\n",
       "530                                            Short Cuts\n",
       "                               ...                       \n",
       "45218       Never Tear Us Apart: The Untold Story of INXS\n",
       "45247                                               Muthu\n",
       "45250                                    Sivaji: The Boss\n",
       "45424                           The Prisoner of If Castle\n",
       "45462                                 Century of Birthing\n",
       "Name: title, Length: 596, dtype: object"
      ]
     },
     "execution_count": 18,
     "metadata": {},
     "output_type": "execute_result"
    }
   ],
   "source": [
    "# Title of The Movie Having Runtime Greater Than or equal to 180 Minutes\n",
    "movies[movies['runtime']>=180]['title']"
   ]
  },
  {
   "cell_type": "code",
   "execution_count": 19,
   "id": "90679ac3",
   "metadata": {},
   "outputs": [],
   "source": [
    "movies['release_date'] = pd.to_datetime(movies['release_date'],errors='coerce')"
   ]
  },
  {
   "cell_type": "code",
   "execution_count": 20,
   "id": "a1432647",
   "metadata": {},
   "outputs": [],
   "source": [
    "movies['year'] = movies['release_date'].dt.year"
   ]
  },
  {
   "cell_type": "code",
   "execution_count": 21,
   "id": "6d189f45",
   "metadata": {},
   "outputs": [
    {
     "data": {
      "text/plain": [
       "year\n",
       "2017.0    194.723684\n",
       "2016.0    192.600998\n",
       "2013.0    183.223399\n",
       "2014.0    179.677812\n",
       "2012.0    168.023810\n",
       "             ...    \n",
       "1913.0      5.076923\n",
       "1912.0      4.714286\n",
       "1907.0      4.571429\n",
       "1900.0      4.500000\n",
       "2018.0      3.000000\n",
       "Name: vote_count, Length: 135, dtype: float64"
      ]
     },
     "execution_count": 21,
     "metadata": {},
     "output_type": "execute_result"
    }
   ],
   "source": [
    "# Year with The Highest Average Voting\n",
    "movies.groupby('year')['vote_count'].mean().sort_values(ascending=False)"
   ]
  },
  {
   "cell_type": "code",
   "execution_count": 22,
   "id": "b6a0257e",
   "metadata": {},
   "outputs": [
    {
     "data": {
      "text/plain": [
       "1874.0"
      ]
     },
     "execution_count": 22,
     "metadata": {},
     "output_type": "execute_result"
    }
   ],
   "source": [
    "movies['year'].min()"
   ]
  },
  {
   "cell_type": "code",
   "execution_count": 23,
   "id": "a0c0de3f",
   "metadata": {},
   "outputs": [
    {
     "data": {
      "text/plain": [
       "2020.0"
      ]
     },
     "execution_count": 23,
     "metadata": {},
     "output_type": "execute_result"
    }
   ],
   "source": [
    "movies['year'].max()"
   ]
  },
  {
   "cell_type": "markdown",
   "id": "69f5618f",
   "metadata": {},
   "source": [
    "**Movies data set contains details from year 1874-2020**"
   ]
  },
  {
   "cell_type": "code",
   "execution_count": 24,
   "id": "8031ca96",
   "metadata": {
    "scrolled": false
   },
   "outputs": [
    {
     "data": {
      "text/plain": [
       "year\n",
       "2017.0    2.833815e+07\n",
       "2016.0    1.901364e+07\n",
       "2003.0    1.787656e+07\n",
       "2004.0    1.780860e+07\n",
       "1997.0    1.735976e+07\n",
       "              ...     \n",
       "1913.0    0.000000e+00\n",
       "1914.0    0.000000e+00\n",
       "1917.0    0.000000e+00\n",
       "1919.0    0.000000e+00\n",
       "2020.0    0.000000e+00\n",
       "Name: revenue, Length: 135, dtype: float64"
      ]
     },
     "execution_count": 24,
     "metadata": {},
     "output_type": "execute_result"
    }
   ],
   "source": [
    "# Year with The Highest Average Revenue\n",
    "movies.groupby('year')['revenue'].mean().sort_values(ascending=False)"
   ]
  },
  {
   "cell_type": "markdown",
   "id": "f1ecadad",
   "metadata": {},
   "source": [
    "**Highest revenue was in year 2017**"
   ]
  },
  {
   "cell_type": "code",
   "execution_count": 26,
   "id": "9efc7d11",
   "metadata": {},
   "outputs": [
    {
     "data": {
      "text/plain": [
       "year\n",
       "2017.0    10.040459\n",
       "2020.0     6.020055\n",
       "2016.0     4.150102\n",
       "2014.0     3.887730\n",
       "1994.0     3.707964\n",
       "            ...    \n",
       "1904.0     0.324007\n",
       "1905.0     0.296622\n",
       "1907.0     0.262532\n",
       "1883.0     0.229221\n",
       "1900.0     0.212536\n",
       "Name: popularity, Length: 135, dtype: float64"
      ]
     },
     "execution_count": 26,
     "metadata": {},
     "output_type": "execute_result"
    }
   ],
   "source": [
    "# Year with The Highest popular movies\n",
    "movies['popularity'] = pd.to_numeric(movies['popularity'],errors='coerce')\n",
    "movies.groupby('year')['popularity'].mean().sort_values(ascending=False)"
   ]
  },
  {
   "cell_type": "markdown",
   "id": "245e3f5c",
   "metadata": {},
   "source": [
    "**Most popular movies were in year 2017**"
   ]
  },
  {
   "cell_type": "code",
   "execution_count": 27,
   "id": "bacc7368",
   "metadata": {},
   "outputs": [
    {
     "data": {
      "text/plain": [
       "2014.0    1974\n",
       "2015.0    1905\n",
       "2013.0    1889\n",
       "2012.0    1722\n",
       "2011.0    1667\n",
       "          ... \n",
       "2020.0       1\n",
       "1887.0       1\n",
       "1878.0       1\n",
       "1874.0       1\n",
       "1883.0       1\n",
       "Name: year, Length: 135, dtype: int64"
      ]
     },
     "execution_count": 27,
     "metadata": {},
     "output_type": "execute_result"
    }
   ],
   "source": [
    "movies['year'].value_counts().sort_values(ascending=False)"
   ]
  },
  {
   "cell_type": "markdown",
   "id": "d22c0b49",
   "metadata": {},
   "source": [
    "**Data contains maximum number of movies for year 2014**"
   ]
  },
  {
   "cell_type": "code",
   "execution_count": 28,
   "id": "686ffa71",
   "metadata": {},
   "outputs": [
    {
     "data": {
      "image/png": "[encoded data removed]",
      "text/plain": [
       "<Figure size 1080x720 with 1 Axes>"
      ]
     },
     "metadata": {
      "needs_background": "light"
     },
     "output_type": "display_data"
    }
   ],
   "source": [
    "plt.figure(figsize=(15,10))\n",
    "plt.title('Chart showing number of movies each year')\n",
    "sns.countplot(x='year',data=movies)\n",
    "plt.show()"
   ]
  },
  {
   "cell_type": "code",
   "execution_count": 29,
   "id": "4099e883",
   "metadata": {
    "scrolled": true
   },
   "outputs": [
    {
     "data": {
      "text/html": [
       "<div>\n",
       "<style scoped>\n",
       "    .dataframe tbody tr th:only-of-type {\n",
       "        vertical-align: middle;\n",
       "    }\n",
       "\n",
       "    .dataframe tbody tr th {\n",
       "        vertical-align: top;\n",
       "    }\n",
       "\n",
       "    .dataframe thead th {\n",
       "        text-align: right;\n",
       "    }\n",
       "</style>\n",
       "<table border=\"1\" class=\"dataframe\">\n",
       "  <thead>\n",
       "    <tr style=\"text-align: right;\">\n",
       "      <th></th>\n",
       "      <th>title</th>\n",
       "      <th>revenue</th>\n",
       "    </tr>\n",
       "  </thead>\n",
       "  <tbody>\n",
       "    <tr>\n",
       "      <th>14551</th>\n",
       "      <td>Avatar</td>\n",
       "      <td>2.787965e+09</td>\n",
       "    </tr>\n",
       "  </tbody>\n",
       "</table>\n",
       "</div>"
      ],
      "text/plain": [
       "        title       revenue\n",
       "14551  Avatar  2.787965e+09"
      ]
     },
     "execution_count": 29,
     "metadata": {},
     "output_type": "execute_result"
    }
   ],
   "source": [
    "movies[movies['revenue'].max() == movies['revenue']][['title','revenue']]"
   ]
  },
  {
   "cell_type": "markdown",
   "id": "03172062",
   "metadata": {},
   "source": [
    "**Avatar movie made the most revenue**"
   ]
  },
  {
   "cell_type": "code",
   "execution_count": 30,
   "id": "1a21eeec",
   "metadata": {
    "scrolled": true
   },
   "outputs": [
    {
     "data": {
      "text/html": [
       "<div>\n",
       "<style scoped>\n",
       "    .dataframe tbody tr th:only-of-type {\n",
       "        vertical-align: middle;\n",
       "    }\n",
       "\n",
       "    .dataframe tbody tr th {\n",
       "        vertical-align: top;\n",
       "    }\n",
       "\n",
       "    .dataframe thead th {\n",
       "        text-align: right;\n",
       "    }\n",
       "</style>\n",
       "<table border=\"1\" class=\"dataframe\">\n",
       "  <thead>\n",
       "    <tr style=\"text-align: right;\">\n",
       "      <th></th>\n",
       "      <th>title</th>\n",
       "      <th>budget</th>\n",
       "    </tr>\n",
       "  </thead>\n",
       "  <tbody>\n",
       "    <tr>\n",
       "      <th>9247</th>\n",
       "      <td>Revolutionary Girl Utena: The Movie</td>\n",
       "      <td>998000</td>\n",
       "    </tr>\n",
       "  </tbody>\n",
       "</table>\n",
       "</div>"
      ],
      "text/plain": [
       "                                    title  budget\n",
       "9247  Revolutionary Girl Utena: The Movie  998000"
      ]
     },
     "execution_count": 30,
     "metadata": {},
     "output_type": "execute_result"
    }
   ],
   "source": [
    "movies[movies['budget'].max() == movies['budget']][['title','budget']]"
   ]
  },
  {
   "cell_type": "markdown",
   "id": "e87de80b",
   "metadata": {},
   "source": [
    "**'Revolutionary Girl Utena: The Movie was made on the highest budget amount'**"
   ]
  },
  {
   "cell_type": "code",
   "execution_count": 31,
   "id": "d5c2ed6e",
   "metadata": {},
   "outputs": [
    {
     "data": {
      "text/html": [
       "<div>\n",
       "<style scoped>\n",
       "    .dataframe tbody tr th:only-of-type {\n",
       "        vertical-align: middle;\n",
       "    }\n",
       "\n",
       "    .dataframe tbody tr th {\n",
       "        vertical-align: top;\n",
       "    }\n",
       "\n",
       "    .dataframe thead th {\n",
       "        text-align: right;\n",
       "    }\n",
       "</style>\n",
       "<table border=\"1\" class=\"dataframe\">\n",
       "  <thead>\n",
       "    <tr style=\"text-align: right;\">\n",
       "      <th></th>\n",
       "      <th>title</th>\n",
       "      <th>popularity</th>\n",
       "    </tr>\n",
       "  </thead>\n",
       "  <tbody>\n",
       "    <tr>\n",
       "      <th>30700</th>\n",
       "      <td>Minions</td>\n",
       "      <td>547.488298</td>\n",
       "    </tr>\n",
       "  </tbody>\n",
       "</table>\n",
       "</div>"
      ],
      "text/plain": [
       "         title  popularity\n",
       "30700  Minions  547.488298"
      ]
     },
     "execution_count": 31,
     "metadata": {},
     "output_type": "execute_result"
    }
   ],
   "source": [
    "movies[movies['popularity'].max() == movies['popularity']][['title','popularity']]"
   ]
  },
  {
   "cell_type": "markdown",
   "id": "9a9fe2ad",
   "metadata": {},
   "source": [
    "**Minions is the most popular movie in this dataset**"
   ]
  },
  {
   "cell_type": "code",
   "execution_count": 32,
   "id": "7b2caf16",
   "metadata": {},
   "outputs": [
    {
     "data": {
      "text/html": [
       "<div>\n",
       "<style scoped>\n",
       "    .dataframe tbody tr th:only-of-type {\n",
       "        vertical-align: middle;\n",
       "    }\n",
       "\n",
       "    .dataframe tbody tr th {\n",
       "        vertical-align: top;\n",
       "    }\n",
       "\n",
       "    .dataframe thead th {\n",
       "        text-align: right;\n",
       "    }\n",
       "</style>\n",
       "<table border=\"1\" class=\"dataframe\">\n",
       "  <thead>\n",
       "    <tr style=\"text-align: right;\">\n",
       "      <th></th>\n",
       "      <th>runtime</th>\n",
       "      <th>popularity</th>\n",
       "    </tr>\n",
       "    <tr>\n",
       "      <th>title</th>\n",
       "      <th></th>\n",
       "      <th></th>\n",
       "    </tr>\n",
       "  </thead>\n",
       "  <tbody>\n",
       "    <tr>\n",
       "      <th>Centennial</th>\n",
       "      <td>1256.0</td>\n",
       "      <td>0.664727</td>\n",
       "    </tr>\n",
       "    <tr>\n",
       "      <th>Jazz</th>\n",
       "      <td>1140.0</td>\n",
       "      <td>1.507756</td>\n",
       "    </tr>\n",
       "    <tr>\n",
       "      <th>Baseball</th>\n",
       "      <td>1140.0</td>\n",
       "      <td>0.145073</td>\n",
       "    </tr>\n",
       "    <tr>\n",
       "      <th>Berlin Alexanderplatz</th>\n",
       "      <td>931.0</td>\n",
       "      <td>2.255785</td>\n",
       "    </tr>\n",
       "    <tr>\n",
       "      <th>Heimat: A Chronicle of Germany</th>\n",
       "      <td>925.0</td>\n",
       "      <td>0.016204</td>\n",
       "    </tr>\n",
       "    <tr>\n",
       "      <th>The Story of Film: An Odyssey</th>\n",
       "      <td>900.0</td>\n",
       "      <td>1.502510</td>\n",
       "    </tr>\n",
       "    <tr>\n",
       "      <th>Taken</th>\n",
       "      <td>877.0</td>\n",
       "      <td>10.628230</td>\n",
       "    </tr>\n",
       "    <tr>\n",
       "      <th>The War</th>\n",
       "      <td>874.0</td>\n",
       "      <td>0.487489</td>\n",
       "    </tr>\n",
       "    <tr>\n",
       "      <th>The Roosevelts: An Intimate History</th>\n",
       "      <td>840.0</td>\n",
       "      <td>0.824032</td>\n",
       "    </tr>\n",
       "    <tr>\n",
       "      <th>Seventeen Moments in Spring</th>\n",
       "      <td>840.0</td>\n",
       "      <td>0.977018</td>\n",
       "    </tr>\n",
       "  </tbody>\n",
       "</table>\n",
       "</div>"
      ],
      "text/plain": [
       "                                     runtime  popularity\n",
       "title                                                   \n",
       "Centennial                            1256.0    0.664727\n",
       "Jazz                                  1140.0    1.507756\n",
       "Baseball                              1140.0    0.145073\n",
       "Berlin Alexanderplatz                  931.0    2.255785\n",
       "Heimat: A Chronicle of Germany         925.0    0.016204\n",
       "The Story of Film: An Odyssey          900.0    1.502510\n",
       "Taken                                  877.0   10.628230\n",
       "The War                                874.0    0.487489\n",
       "The Roosevelts: An Intimate History    840.0    0.824032\n",
       "Seventeen Moments in Spring            840.0    0.977018"
      ]
     },
     "execution_count": 32,
     "metadata": {},
     "output_type": "execute_result"
    }
   ],
   "source": [
    "top_10 = movies.nlargest(10,'runtime')[['title','runtime','popularity']].set_index('title')\n",
    "top_10"
   ]
  },
  {
   "cell_type": "code",
   "execution_count": 33,
   "id": "4d908fc4",
   "metadata": {
    "scrolled": true
   },
   "outputs": [
    {
     "data": {
      "image/png": "[encoded data removed]",
      "text/plain": [
       "<Figure size 360x360 with 1 Axes>"
      ]
     },
     "metadata": {
      "needs_background": "light"
     },
     "output_type": "display_data"
    }
   ],
   "source": [
    "plt.figure(figsize=(5,5))\n",
    "plt.title('Chart showing top 10 movies with highest runtime')\n",
    "sns.barplot(x='runtime',y=top_10.index,data=top_10)\n",
    "plt.show()"
   ]
  },
  {
   "cell_type": "code",
   "execution_count": 34,
   "id": "72a707bb",
   "metadata": {
    "scrolled": true
   },
   "outputs": [
    {
     "data": {
      "text/html": [
       "<div>\n",
       "<style scoped>\n",
       "    .dataframe tbody tr th:only-of-type {\n",
       "        vertical-align: middle;\n",
       "    }\n",
       "\n",
       "    .dataframe tbody tr th {\n",
       "        vertical-align: top;\n",
       "    }\n",
       "\n",
       "    .dataframe thead th {\n",
       "        text-align: right;\n",
       "    }\n",
       "</style>\n",
       "<table border=\"1\" class=\"dataframe\">\n",
       "  <thead>\n",
       "    <tr style=\"text-align: right;\">\n",
       "      <th></th>\n",
       "      <th>popularity</th>\n",
       "      <th>revenue</th>\n",
       "    </tr>\n",
       "    <tr>\n",
       "      <th>title</th>\n",
       "      <th></th>\n",
       "      <th></th>\n",
       "    </tr>\n",
       "  </thead>\n",
       "  <tbody>\n",
       "    <tr>\n",
       "      <th>Minions</th>\n",
       "      <td>547.488298</td>\n",
       "      <td>1.156731e+09</td>\n",
       "    </tr>\n",
       "    <tr>\n",
       "      <th>Wonder Woman</th>\n",
       "      <td>294.337037</td>\n",
       "      <td>8.205804e+08</td>\n",
       "    </tr>\n",
       "    <tr>\n",
       "      <th>Beauty and the Beast</th>\n",
       "      <td>287.253654</td>\n",
       "      <td>1.262886e+09</td>\n",
       "    </tr>\n",
       "    <tr>\n",
       "      <th>Baby Driver</th>\n",
       "      <td>228.032744</td>\n",
       "      <td>2.245113e+08</td>\n",
       "    </tr>\n",
       "    <tr>\n",
       "      <th>Big Hero 6</th>\n",
       "      <td>213.849907</td>\n",
       "      <td>6.521054e+08</td>\n",
       "    </tr>\n",
       "    <tr>\n",
       "      <th>Deadpool</th>\n",
       "      <td>187.860492</td>\n",
       "      <td>7.831130e+08</td>\n",
       "    </tr>\n",
       "    <tr>\n",
       "      <th>Guardians of the Galaxy Vol. 2</th>\n",
       "      <td>185.330992</td>\n",
       "      <td>8.634161e+08</td>\n",
       "    </tr>\n",
       "    <tr>\n",
       "      <th>Avatar</th>\n",
       "      <td>185.070892</td>\n",
       "      <td>2.787965e+09</td>\n",
       "    </tr>\n",
       "    <tr>\n",
       "      <th>John Wick</th>\n",
       "      <td>183.870374</td>\n",
       "      <td>8.876166e+07</td>\n",
       "    </tr>\n",
       "    <tr>\n",
       "      <th>Gone Girl</th>\n",
       "      <td>154.801009</td>\n",
       "      <td>3.693304e+08</td>\n",
       "    </tr>\n",
       "  </tbody>\n",
       "</table>\n",
       "</div>"
      ],
      "text/plain": [
       "                                popularity       revenue\n",
       "title                                                   \n",
       "Minions                         547.488298  1.156731e+09\n",
       "Wonder Woman                    294.337037  8.205804e+08\n",
       "Beauty and the Beast            287.253654  1.262886e+09\n",
       "Baby Driver                     228.032744  2.245113e+08\n",
       "Big Hero 6                      213.849907  6.521054e+08\n",
       "Deadpool                        187.860492  7.831130e+08\n",
       "Guardians of the Galaxy Vol. 2  185.330992  8.634161e+08\n",
       "Avatar                          185.070892  2.787965e+09\n",
       "John Wick                       183.870374  8.876166e+07\n",
       "Gone Girl                       154.801009  3.693304e+08"
      ]
     },
     "execution_count": 34,
     "metadata": {},
     "output_type": "execute_result"
    }
   ],
   "source": [
    "top_10_pop = movies.nlargest(10,'popularity')[['title','popularity','revenue']].set_index('title')\n",
    "top_10_pop"
   ]
  },
  {
   "cell_type": "code",
   "execution_count": 35,
   "id": "4601b31a",
   "metadata": {},
   "outputs": [
    {
     "data": {
      "image/png": "[encoded data removed]",
      "text/plain": [
       "<Figure size 360x360 with 1 Axes>"
      ]
     },
     "metadata": {
      "needs_background": "light"
     },
     "output_type": "display_data"
    }
   ],
   "source": [
    "plt.figure(figsize=(5,5))\n",
    "plt.title('Chart showing top 10 popular movies')\n",
    "sns.barplot(x='popularity',y=top_10_pop.index,data=top_10_pop)\n",
    "plt.show()"
   ]
  },
  {
   "cell_type": "markdown",
   "id": "dba92dab",
   "metadata": {},
   "source": [
    "### EXPLORING CREDITS DATA"
   ]
  },
  {
   "cell_type": "code",
   "execution_count": 36,
   "id": "7084f0f6",
   "metadata": {},
   "outputs": [
    {
     "name": "stdout",
     "output_type": "stream",
     "text": [
      "No of records in credits data:  45476\n",
      "No of columns in credits data:  3\n"
     ]
    }
   ],
   "source": [
    "print('No of records in credits data: ',credits.shape[0])\n",
    "print('No of columns in credits data: ',credits.shape[1])"
   ]
  },
  {
   "cell_type": "code",
   "execution_count": 37,
   "id": "62e86db3",
   "metadata": {},
   "outputs": [
    {
     "data": {
      "text/html": [
       "<div>\n",
       "<style scoped>\n",
       "    .dataframe tbody tr th:only-of-type {\n",
       "        vertical-align: middle;\n",
       "    }\n",
       "\n",
       "    .dataframe tbody tr th {\n",
       "        vertical-align: top;\n",
       "    }\n",
       "\n",
       "    .dataframe thead th {\n",
       "        text-align: right;\n",
       "    }\n",
       "</style>\n",
       "<table border=\"1\" class=\"dataframe\">\n",
       "  <thead>\n",
       "    <tr style=\"text-align: right;\">\n",
       "      <th></th>\n",
       "      <th>cast</th>\n",
       "      <th>crew</th>\n",
       "      <th>id</th>\n",
       "    </tr>\n",
       "  </thead>\n",
       "  <tbody>\n",
       "    <tr>\n",
       "      <th>0</th>\n",
       "      <td>[{'cast_id': 14, 'character': 'Woody (voice)',...</td>\n",
       "      <td>[{'credit_id': '52fe4284c3a36847f8024f49', 'de...</td>\n",
       "      <td>862</td>\n",
       "    </tr>\n",
       "    <tr>\n",
       "      <th>1</th>\n",
       "      <td>[{'cast_id': 1, 'character': 'Alan Parrish', '...</td>\n",
       "      <td>[{'credit_id': '52fe44bfc3a36847f80a7cd1', 'de...</td>\n",
       "      <td>8844</td>\n",
       "    </tr>\n",
       "    <tr>\n",
       "      <th>2</th>\n",
       "      <td>[{'cast_id': 2, 'character': 'Max Goldman', 'c...</td>\n",
       "      <td>[{'credit_id': '52fe466a9251416c75077a89', 'de...</td>\n",
       "      <td>15602</td>\n",
       "    </tr>\n",
       "    <tr>\n",
       "      <th>3</th>\n",
       "      <td>[{'cast_id': 1, 'character': \"Savannah 'Vannah...</td>\n",
       "      <td>[{'credit_id': '52fe44779251416c91011acb', 'de...</td>\n",
       "      <td>31357</td>\n",
       "    </tr>\n",
       "    <tr>\n",
       "      <th>4</th>\n",
       "      <td>[{'cast_id': 1, 'character': 'George Banks', '...</td>\n",
       "      <td>[{'credit_id': '52fe44959251416c75039ed7', 'de...</td>\n",
       "      <td>11862</td>\n",
       "    </tr>\n",
       "    <tr>\n",
       "      <th>5</th>\n",
       "      <td>[{'cast_id': 25, 'character': 'Lt. Vincent Han...</td>\n",
       "      <td>[{'credit_id': '52fe4292c3a36847f802916d', 'de...</td>\n",
       "      <td>949</td>\n",
       "    </tr>\n",
       "    <tr>\n",
       "      <th>6</th>\n",
       "      <td>[{'cast_id': 1, 'character': 'Linus Larrabee',...</td>\n",
       "      <td>[{'credit_id': '52fe44959251416c75039da9', 'de...</td>\n",
       "      <td>11860</td>\n",
       "    </tr>\n",
       "    <tr>\n",
       "      <th>7</th>\n",
       "      <td>[{'cast_id': 2, 'character': 'Tom Sawyer', 'cr...</td>\n",
       "      <td>[{'credit_id': '52fe46bdc3a36847f810f797', 'de...</td>\n",
       "      <td>45325</td>\n",
       "    </tr>\n",
       "    <tr>\n",
       "      <th>8</th>\n",
       "      <td>[{'cast_id': 1, 'character': 'Darren Francis T...</td>\n",
       "      <td>[{'credit_id': '52fe44dbc3a36847f80ae0f1', 'de...</td>\n",
       "      <td>9091</td>\n",
       "    </tr>\n",
       "    <tr>\n",
       "      <th>9</th>\n",
       "      <td>[{'cast_id': 1, 'character': 'James Bond', 'cr...</td>\n",
       "      <td>[{'credit_id': '52fe426ec3a36847f801e14b', 'de...</td>\n",
       "      <td>710</td>\n",
       "    </tr>\n",
       "  </tbody>\n",
       "</table>\n",
       "</div>"
      ],
      "text/plain": [
       "                                                cast  \\\n",
       "0  [{'cast_id': 14, 'character': 'Woody (voice)',...   \n",
       "1  [{'cast_id': 1, 'character': 'Alan Parrish', '...   \n",
       "2  [{'cast_id': 2, 'character': 'Max Goldman', 'c...   \n",
       "3  [{'cast_id': 1, 'character': \"Savannah 'Vannah...   \n",
       "4  [{'cast_id': 1, 'character': 'George Banks', '...   \n",
       "5  [{'cast_id': 25, 'character': 'Lt. Vincent Han...   \n",
       "6  [{'cast_id': 1, 'character': 'Linus Larrabee',...   \n",
       "7  [{'cast_id': 2, 'character': 'Tom Sawyer', 'cr...   \n",
       "8  [{'cast_id': 1, 'character': 'Darren Francis T...   \n",
       "9  [{'cast_id': 1, 'character': 'James Bond', 'cr...   \n",
       "\n",
       "                                                crew     id  \n",
       "0  [{'credit_id': '52fe4284c3a36847f8024f49', 'de...    862  \n",
       "1  [{'credit_id': '52fe44bfc3a36847f80a7cd1', 'de...   8844  \n",
       "2  [{'credit_id': '52fe466a9251416c75077a89', 'de...  15602  \n",
       "3  [{'credit_id': '52fe44779251416c91011acb', 'de...  31357  \n",
       "4  [{'credit_id': '52fe44959251416c75039ed7', 'de...  11862  \n",
       "5  [{'credit_id': '52fe4292c3a36847f802916d', 'de...    949  \n",
       "6  [{'credit_id': '52fe44959251416c75039da9', 'de...  11860  \n",
       "7  [{'credit_id': '52fe46bdc3a36847f810f797', 'de...  45325  \n",
       "8  [{'credit_id': '52fe44dbc3a36847f80ae0f1', 'de...   9091  \n",
       "9  [{'credit_id': '52fe426ec3a36847f801e14b', 'de...    710  "
      ]
     },
     "execution_count": 37,
     "metadata": {},
     "output_type": "execute_result"
    }
   ],
   "source": [
    "# Viewing first 10 rows of the data\n",
    "credits.head(10)"
   ]
  },
  {
   "cell_type": "code",
   "execution_count": 38,
   "id": "a491e98a",
   "metadata": {},
   "outputs": [
    {
     "data": {
      "text/html": [
       "<div>\n",
       "<style scoped>\n",
       "    .dataframe tbody tr th:only-of-type {\n",
       "        vertical-align: middle;\n",
       "    }\n",
       "\n",
       "    .dataframe tbody tr th {\n",
       "        vertical-align: top;\n",
       "    }\n",
       "\n",
       "    .dataframe thead th {\n",
       "        text-align: right;\n",
       "    }\n",
       "</style>\n",
       "<table border=\"1\" class=\"dataframe\">\n",
       "  <thead>\n",
       "    <tr style=\"text-align: right;\">\n",
       "      <th></th>\n",
       "      <th>cast</th>\n",
       "      <th>crew</th>\n",
       "      <th>id</th>\n",
       "    </tr>\n",
       "  </thead>\n",
       "  <tbody>\n",
       "    <tr>\n",
       "      <th>45466</th>\n",
       "      <td>[{'cast_id': 5, 'character': 'The Creeper', 'c...</td>\n",
       "      <td>[{'credit_id': '58152c139251415a7f0047e2', 'de...</td>\n",
       "      <td>84419</td>\n",
       "    </tr>\n",
       "    <tr>\n",
       "      <th>45467</th>\n",
       "      <td>[{'cast_id': 30, 'character': 'Debuty Hank Har...</td>\n",
       "      <td>[{'credit_id': '56ff6ddbc3a3686e9e0013bc', 'de...</td>\n",
       "      <td>390959</td>\n",
       "    </tr>\n",
       "    <tr>\n",
       "      <th>45468</th>\n",
       "      <td>[{'cast_id': 2, 'character': 'Branwall', 'cred...</td>\n",
       "      <td>[{'credit_id': '5403d669c3a3682d9800427d', 'de...</td>\n",
       "      <td>289923</td>\n",
       "    </tr>\n",
       "    <tr>\n",
       "      <th>45469</th>\n",
       "      <td>[{'cast_id': 1, 'character': 'Kira (as Cassand...</td>\n",
       "      <td>[{'credit_id': '5757f36ac3a3687d6f000e8a', 'de...</td>\n",
       "      <td>222848</td>\n",
       "    </tr>\n",
       "    <tr>\n",
       "      <th>45470</th>\n",
       "      <td>[{'cast_id': 1, 'character': 'Sir Robert Hode'...</td>\n",
       "      <td>[{'credit_id': '52fe44439251416c9100a899', 'de...</td>\n",
       "      <td>30840</td>\n",
       "    </tr>\n",
       "    <tr>\n",
       "      <th>45471</th>\n",
       "      <td>[{'cast_id': 0, 'character': '', 'credit_id': ...</td>\n",
       "      <td>[{'credit_id': '5894a97d925141426c00818c', 'de...</td>\n",
       "      <td>439050</td>\n",
       "    </tr>\n",
       "    <tr>\n",
       "      <th>45472</th>\n",
       "      <td>[{'cast_id': 1002, 'character': 'Sister Angela...</td>\n",
       "      <td>[{'credit_id': '52fe4af1c3a36847f81e9b15', 'de...</td>\n",
       "      <td>111109</td>\n",
       "    </tr>\n",
       "    <tr>\n",
       "      <th>45473</th>\n",
       "      <td>[{'cast_id': 6, 'character': 'Emily Shaw', 'cr...</td>\n",
       "      <td>[{'credit_id': '52fe4776c3a368484e0c8387', 'de...</td>\n",
       "      <td>67758</td>\n",
       "    </tr>\n",
       "    <tr>\n",
       "      <th>45474</th>\n",
       "      <td>[{'cast_id': 2, 'character': '', 'credit_id': ...</td>\n",
       "      <td>[{'credit_id': '533bccebc3a36844cf0011a7', 'de...</td>\n",
       "      <td>227506</td>\n",
       "    </tr>\n",
       "    <tr>\n",
       "      <th>45475</th>\n",
       "      <td>[]</td>\n",
       "      <td>[{'credit_id': '593e676c92514105b702e68e', 'de...</td>\n",
       "      <td>461257</td>\n",
       "    </tr>\n",
       "  </tbody>\n",
       "</table>\n",
       "</div>"
      ],
      "text/plain": [
       "                                                    cast  \\\n",
       "45466  [{'cast_id': 5, 'character': 'The Creeper', 'c...   \n",
       "45467  [{'cast_id': 30, 'character': 'Debuty Hank Har...   \n",
       "45468  [{'cast_id': 2, 'character': 'Branwall', 'cred...   \n",
       "45469  [{'cast_id': 1, 'character': 'Kira (as Cassand...   \n",
       "45470  [{'cast_id': 1, 'character': 'Sir Robert Hode'...   \n",
       "45471  [{'cast_id': 0, 'character': '', 'credit_id': ...   \n",
       "45472  [{'cast_id': 1002, 'character': 'Sister Angela...   \n",
       "45473  [{'cast_id': 6, 'character': 'Emily Shaw', 'cr...   \n",
       "45474  [{'cast_id': 2, 'character': '', 'credit_id': ...   \n",
       "45475                                                 []   \n",
       "\n",
       "                                                    crew      id  \n",
       "45466  [{'credit_id': '58152c139251415a7f0047e2', 'de...   84419  \n",
       "45467  [{'credit_id': '56ff6ddbc3a3686e9e0013bc', 'de...  390959  \n",
       "45468  [{'credit_id': '5403d669c3a3682d9800427d', 'de...  289923  \n",
       "45469  [{'credit_id': '5757f36ac3a3687d6f000e8a', 'de...  222848  \n",
       "45470  [{'credit_id': '52fe44439251416c9100a899', 'de...   30840  \n",
       "45471  [{'credit_id': '5894a97d925141426c00818c', 'de...  439050  \n",
       "45472  [{'credit_id': '52fe4af1c3a36847f81e9b15', 'de...  111109  \n",
       "45473  [{'credit_id': '52fe4776c3a368484e0c8387', 'de...   67758  \n",
       "45474  [{'credit_id': '533bccebc3a36844cf0011a7', 'de...  227506  \n",
       "45475  [{'credit_id': '593e676c92514105b702e68e', 'de...  461257  "
      ]
     },
     "execution_count": 38,
     "metadata": {},
     "output_type": "execute_result"
    }
   ],
   "source": [
    "# Viewing last 10 rows of the data\n",
    "credits.tail(10)"
   ]
  },
  {
   "cell_type": "code",
   "execution_count": 39,
   "id": "222b1dae",
   "metadata": {},
   "outputs": [
    {
     "data": {
      "text/html": [
       "<div>\n",
       "<style scoped>\n",
       "    .dataframe tbody tr th:only-of-type {\n",
       "        vertical-align: middle;\n",
       "    }\n",
       "\n",
       "    .dataframe tbody tr th {\n",
       "        vertical-align: top;\n",
       "    }\n",
       "\n",
       "    .dataframe thead th {\n",
       "        text-align: right;\n",
       "    }\n",
       "</style>\n",
       "<table border=\"1\" class=\"dataframe\">\n",
       "  <thead>\n",
       "    <tr style=\"text-align: right;\">\n",
       "      <th></th>\n",
       "      <th>cast</th>\n",
       "      <th>crew</th>\n",
       "      <th>id</th>\n",
       "    </tr>\n",
       "  </thead>\n",
       "  <tbody>\n",
       "    <tr>\n",
       "      <th>29250</th>\n",
       "      <td>[{'cast_id': 2, 'character': 'Shelley Sheridan...</td>\n",
       "      <td>[{'credit_id': '52fe44a1c3a368484e02ddcd', 'de...</td>\n",
       "      <td>24626</td>\n",
       "    </tr>\n",
       "    <tr>\n",
       "      <th>34360</th>\n",
       "      <td>[{'cast_id': 4, 'character': 'Pratap Narayan T...</td>\n",
       "      <td>[{'credit_id': '52fe4b209251416c750f92dd', 'de...</td>\n",
       "      <td>143980</td>\n",
       "    </tr>\n",
       "    <tr>\n",
       "      <th>44922</th>\n",
       "      <td>[{'cast_id': 2, 'character': 'Herself (archive...</td>\n",
       "      <td>[{'credit_id': '52fe48fe9251416c750ba155', 'de...</td>\n",
       "      <td>92475</td>\n",
       "    </tr>\n",
       "    <tr>\n",
       "      <th>14678</th>\n",
       "      <td>[{'cast_id': 3, 'character': 'Sachiko Kita', '...</td>\n",
       "      <td>[{'credit_id': '52fe4a2b9251416c910c58a3', 'de...</td>\n",
       "      <td>89800</td>\n",
       "    </tr>\n",
       "    <tr>\n",
       "      <th>11146</th>\n",
       "      <td>[{'cast_id': 3, 'character': 'Mrs. Palfrey', '...</td>\n",
       "      <td>[{'credit_id': '52fe474bc3a36847f812da35', 'de...</td>\n",
       "      <td>47880</td>\n",
       "    </tr>\n",
       "  </tbody>\n",
       "</table>\n",
       "</div>"
      ],
      "text/plain": [
       "                                                    cast  \\\n",
       "29250  [{'cast_id': 2, 'character': 'Shelley Sheridan...   \n",
       "34360  [{'cast_id': 4, 'character': 'Pratap Narayan T...   \n",
       "44922  [{'cast_id': 2, 'character': 'Herself (archive...   \n",
       "14678  [{'cast_id': 3, 'character': 'Sachiko Kita', '...   \n",
       "11146  [{'cast_id': 3, 'character': 'Mrs. Palfrey', '...   \n",
       "\n",
       "                                                    crew      id  \n",
       "29250  [{'credit_id': '52fe44a1c3a368484e02ddcd', 'de...   24626  \n",
       "34360  [{'credit_id': '52fe4b209251416c750f92dd', 'de...  143980  \n",
       "44922  [{'credit_id': '52fe48fe9251416c750ba155', 'de...   92475  \n",
       "14678  [{'credit_id': '52fe4a2b9251416c910c58a3', 'de...   89800  \n",
       "11146  [{'credit_id': '52fe474bc3a36847f812da35', 'de...   47880  "
      ]
     },
     "execution_count": 39,
     "metadata": {},
     "output_type": "execute_result"
    }
   ],
   "source": [
    "# Viewing random 5 rows of the data\n",
    "credits.sample(5)"
   ]
  },
  {
   "cell_type": "code",
   "execution_count": 40,
   "id": "b992a904",
   "metadata": {},
   "outputs": [
    {
     "data": {
      "text/plain": [
       "Index(['cast', 'crew', 'id'], dtype='object')"
      ]
     },
     "execution_count": 40,
     "metadata": {},
     "output_type": "execute_result"
    }
   ],
   "source": [
    "# Viewing the list of all the columns in this dataset\n",
    "credits.columns"
   ]
  },
  {
   "cell_type": "code",
   "execution_count": 41,
   "id": "d943371a",
   "metadata": {},
   "outputs": [
    {
     "data": {
      "text/plain": [
       "cast    object\n",
       "crew    object\n",
       "id       int64\n",
       "dtype: object"
      ]
     },
     "execution_count": 41,
     "metadata": {},
     "output_type": "execute_result"
    }
   ],
   "source": [
    "credits.dtypes"
   ]
  },
  {
   "cell_type": "code",
   "execution_count": 42,
   "id": "3523bcad",
   "metadata": {},
   "outputs": [
    {
     "name": "stdout",
     "output_type": "stream",
     "text": [
      "<class 'pandas.core.frame.DataFrame'>\n",
      "RangeIndex: 45476 entries, 0 to 45475\n",
      "Data columns (total 3 columns):\n",
      " #   Column  Non-Null Count  Dtype \n",
      "---  ------  --------------  ----- \n",
      " 0   cast    45476 non-null  object\n",
      " 1   crew    45476 non-null  object\n",
      " 2   id      45476 non-null  int64 \n",
      "dtypes: int64(1), object(2)\n",
      "memory usage: 1.0+ MB\n"
     ]
    }
   ],
   "source": [
    "credits.info()"
   ]
  },
  {
   "cell_type": "code",
   "execution_count": 43,
   "id": "ac4fdedc",
   "metadata": {},
   "outputs": [
    {
     "data": {
      "text/plain": [
       "cast    0\n",
       "crew    0\n",
       "id      0\n",
       "dtype: int64"
      ]
     },
     "execution_count": 43,
     "metadata": {},
     "output_type": "execute_result"
    }
   ],
   "source": [
    "credits.isnull().sum()"
   ]
  },
  {
   "cell_type": "code",
   "execution_count": 44,
   "id": "6a7c3e73",
   "metadata": {},
   "outputs": [
    {
     "data": {
      "text/plain": [
       "37"
      ]
     },
     "execution_count": 44,
     "metadata": {},
     "output_type": "execute_result"
    }
   ],
   "source": [
    "credits.duplicated().sum()"
   ]
  },
  {
   "cell_type": "markdown",
   "id": "ea841edc",
   "metadata": {},
   "source": [
    "## Combining both datasets"
   ]
  },
  {
   "cell_type": "code",
   "execution_count": 45,
   "id": "006db4be",
   "metadata": {},
   "outputs": [],
   "source": [
    "movies['id'] = pd.to_numeric(movies['id'],errors='coerce')"
   ]
  },
  {
   "cell_type": "code",
   "execution_count": 46,
   "id": "0d42f091",
   "metadata": {},
   "outputs": [],
   "source": [
    "movies.dropna(subset=['id'],inplace=True)"
   ]
  },
  {
   "cell_type": "code",
   "execution_count": 47,
   "id": "33f87936",
   "metadata": {},
   "outputs": [],
   "source": [
    "movies['id'] = movies['id'].astype(int)"
   ]
  },
  {
   "cell_type": "code",
   "execution_count": 48,
   "id": "357dd297",
   "metadata": {},
   "outputs": [
    {
     "data": {
      "text/plain": [
       "dtype('int32')"
      ]
     },
     "execution_count": 48,
     "metadata": {},
     "output_type": "execute_result"
    }
   ],
   "source": [
    "movies['id'].dtypes"
   ]
  },
  {
   "cell_type": "code",
   "execution_count": 49,
   "id": "b9c9d5d8",
   "metadata": {},
   "outputs": [],
   "source": [
    "comb = movies.merge(credits,on='id')"
   ]
  },
  {
   "cell_type": "code",
   "execution_count": 50,
   "id": "5e3813e8",
   "metadata": {
    "scrolled": true
   },
   "outputs": [
    {
     "data": {
      "text/plain": [
       "Index(['adult', 'belongs_to_collection', 'budget', 'genres', 'homepage', 'id',\n",
       "       'imdb_id', 'original_language', 'original_title', 'overview',\n",
       "       'popularity', 'poster_path', 'production_companies',\n",
       "       'production_countries', 'release_date', 'revenue', 'runtime',\n",
       "       'spoken_languages', 'status', 'tagline', 'title', 'video',\n",
       "       'vote_average', 'vote_count', 'year', 'cast', 'crew'],\n",
       "      dtype='object')"
      ]
     },
     "execution_count": 50,
     "metadata": {},
     "output_type": "execute_result"
    }
   ],
   "source": [
    "comb.columns"
   ]
  },
  {
   "cell_type": "code",
   "execution_count": 51,
   "id": "214c6ceb",
   "metadata": {},
   "outputs": [],
   "source": [
    "def fetch_director(text):\n",
    "    L = []\n",
    "    for i in ast.literal_eval(text):\n",
    "        if i['job'] == 'Director':\n",
    "            L.append(i['name'])\n",
    "    return L"
   ]
  },
  {
   "cell_type": "code",
   "execution_count": 52,
   "id": "7792c73a",
   "metadata": {},
   "outputs": [],
   "source": [
    "comb['crew'] = comb['crew'].apply(fetch_director)"
   ]
  },
  {
   "cell_type": "code",
   "execution_count": 53,
   "id": "52ed3bb7",
   "metadata": {},
   "outputs": [],
   "source": [
    "def convert3(text):\n",
    "    L = []\n",
    "    counter = 0\n",
    "    for i in ast.literal_eval(text):\n",
    "        if counter < 3:\n",
    "            L.append(i['name'])\n",
    "        counter+=1\n",
    "    return L "
   ]
  },
  {
   "cell_type": "code",
   "execution_count": 54,
   "id": "b06a07cb",
   "metadata": {},
   "outputs": [],
   "source": [
    "comb['cast'] = comb['cast'].apply(convert3)"
   ]
  },
  {
   "cell_type": "code",
   "execution_count": 55,
   "id": "1b8031f0",
   "metadata": {},
   "outputs": [],
   "source": [
    "comb['cast'] = comb['cast'].apply(lambda x:x[0:3])"
   ]
  },
  {
   "cell_type": "code",
   "execution_count": 56,
   "id": "0cabf94e",
   "metadata": {},
   "outputs": [],
   "source": [
    "def convert(text):\n",
    "    L = []\n",
    "    for i in ast.literal_eval(text):\n",
    "        L.append(i['name']) \n",
    "    return L "
   ]
  },
  {
   "cell_type": "code",
   "execution_count": 57,
   "id": "77b52073",
   "metadata": {},
   "outputs": [],
   "source": [
    "comb['genres'] = comb['genres'].apply(convert)"
   ]
  },
  {
   "cell_type": "code",
   "execution_count": 58,
   "id": "48aacde5",
   "metadata": {},
   "outputs": [
    {
     "data": {
      "text/plain": [
       "adult                        0\n",
       "belongs_to_collection    41038\n",
       "budget                       0\n",
       "genres                       0\n",
       "homepage                 37746\n",
       "id                           0\n",
       "imdb_id                     17\n",
       "original_language           11\n",
       "original_title               0\n",
       "overview                   954\n",
       "popularity                   3\n",
       "poster_path                386\n",
       "production_companies         3\n",
       "production_countries         3\n",
       "release_date                87\n",
       "revenue                      3\n",
       "runtime                    260\n",
       "spoken_languages             3\n",
       "status                      84\n",
       "tagline                  25099\n",
       "title                        3\n",
       "video                        3\n",
       "vote_average                 3\n",
       "vote_count                   3\n",
       "year                        87\n",
       "cast                         0\n",
       "crew                         0\n",
       "dtype: int64"
      ]
     },
     "execution_count": 58,
     "metadata": {},
     "output_type": "execute_result"
    }
   ],
   "source": [
    "comb.isnull().sum()"
   ]
  },
  {
   "cell_type": "code",
   "execution_count": 59,
   "id": "bbac9a97",
   "metadata": {},
   "outputs": [
    {
     "data": {
      "text/html": [
       "<div>\n",
       "<style scoped>\n",
       "    .dataframe tbody tr th:only-of-type {\n",
       "        vertical-align: middle;\n",
       "    }\n",
       "\n",
       "    .dataframe tbody tr th {\n",
       "        vertical-align: top;\n",
       "    }\n",
       "\n",
       "    .dataframe thead th {\n",
       "        text-align: right;\n",
       "    }\n",
       "</style>\n",
       "<table border=\"1\" class=\"dataframe\">\n",
       "  <thead>\n",
       "    <tr style=\"text-align: right;\">\n",
       "      <th></th>\n",
       "      <th>adult</th>\n",
       "      <th>belongs_to_collection</th>\n",
       "      <th>budget</th>\n",
       "      <th>genres</th>\n",
       "      <th>homepage</th>\n",
       "      <th>id</th>\n",
       "      <th>imdb_id</th>\n",
       "      <th>original_language</th>\n",
       "      <th>original_title</th>\n",
       "      <th>overview</th>\n",
       "      <th>...</th>\n",
       "      <th>spoken_languages</th>\n",
       "      <th>status</th>\n",
       "      <th>tagline</th>\n",
       "      <th>title</th>\n",
       "      <th>video</th>\n",
       "      <th>vote_average</th>\n",
       "      <th>vote_count</th>\n",
       "      <th>year</th>\n",
       "      <th>cast</th>\n",
       "      <th>crew</th>\n",
       "    </tr>\n",
       "  </thead>\n",
       "  <tbody>\n",
       "    <tr>\n",
       "      <th>34810</th>\n",
       "      <td>False</td>\n",
       "      <td>NaN</td>\n",
       "      <td>0</td>\n",
       "      <td>[]</td>\n",
       "      <td>NaN</td>\n",
       "      <td>132542</td>\n",
       "      <td>tt0095987</td>\n",
       "      <td>en</td>\n",
       "      <td>The Return of Bruno</td>\n",
       "      <td>A \"documentary\" about the major influence that...</td>\n",
       "      <td>...</td>\n",
       "      <td>[]</td>\n",
       "      <td>Released</td>\n",
       "      <td>NaN</td>\n",
       "      <td>The Return of Bruno</td>\n",
       "      <td>False</td>\n",
       "      <td>4.7</td>\n",
       "      <td>3.0</td>\n",
       "      <td>1987.0</td>\n",
       "      <td>[Bruce Willis, Michael J. Fox, Elton John]</td>\n",
       "      <td>[James Yukich]</td>\n",
       "    </tr>\n",
       "    <tr>\n",
       "      <th>8289</th>\n",
       "      <td>False</td>\n",
       "      <td>NaN</td>\n",
       "      <td>27000000</td>\n",
       "      <td>[Drama, Romance]</td>\n",
       "      <td>NaN</td>\n",
       "      <td>2288</td>\n",
       "      <td>tt0376541</td>\n",
       "      <td>en</td>\n",
       "      <td>Closer</td>\n",
       "      <td>A witty, romantic, and very dangerous love sto...</td>\n",
       "      <td>...</td>\n",
       "      <td>[{'iso_639_1': 'en', 'name': 'English'}]</td>\n",
       "      <td>Released</td>\n",
       "      <td>If you believe in love at first sight, you nev...</td>\n",
       "      <td>Closer</td>\n",
       "      <td>False</td>\n",
       "      <td>6.7</td>\n",
       "      <td>845.0</td>\n",
       "      <td>2004.0</td>\n",
       "      <td>[Julia Roberts, Jude Law, Natalie Portman]</td>\n",
       "      <td>[Mike Nichols]</td>\n",
       "    </tr>\n",
       "    <tr>\n",
       "      <th>32087</th>\n",
       "      <td>False</td>\n",
       "      <td>{'id': 8647, 'name': 'The Skulls Collection', ...</td>\n",
       "      <td>3800000</td>\n",
       "      <td>[Action, Comedy, Thriller, Romance]</td>\n",
       "      <td>NaN</td>\n",
       "      <td>8460</td>\n",
       "      <td>tt0278723</td>\n",
       "      <td>en</td>\n",
       "      <td>The Skulls II</td>\n",
       "      <td>After joining the Skulls, Ryan Sommers (Robin ...</td>\n",
       "      <td>...</td>\n",
       "      <td>[{'iso_639_1': 'en', 'name': 'English'}]</td>\n",
       "      <td>Released</td>\n",
       "      <td>NaN</td>\n",
       "      <td>The Skulls II</td>\n",
       "      <td>False</td>\n",
       "      <td>5.3</td>\n",
       "      <td>21.0</td>\n",
       "      <td>2002.0</td>\n",
       "      <td>[Robin Dunne, Nathan West, Ashley Tesoro]</td>\n",
       "      <td>[Joe Chappelle]</td>\n",
       "    </tr>\n",
       "    <tr>\n",
       "      <th>13818</th>\n",
       "      <td>False</td>\n",
       "      <td>NaN</td>\n",
       "      <td>0</td>\n",
       "      <td>[Comedy]</td>\n",
       "      <td>NaN</td>\n",
       "      <td>761</td>\n",
       "      <td>tt0074103</td>\n",
       "      <td>fr</td>\n",
       "      <td>L'Aile ou la Cuisse</td>\n",
       "      <td>Charles Duchemin, a well-known gourmet and pub...</td>\n",
       "      <td>...</td>\n",
       "      <td>[{'iso_639_1': 'fr', 'name': 'Français'}]</td>\n",
       "      <td>Released</td>\n",
       "      <td>NaN</td>\n",
       "      <td>The Wing or the Thigh</td>\n",
       "      <td>False</td>\n",
       "      <td>6.8</td>\n",
       "      <td>115.0</td>\n",
       "      <td>1976.0</td>\n",
       "      <td>[Louis de Funès, Coluche, Claude Gensac]</td>\n",
       "      <td>[Claude Zidi]</td>\n",
       "    </tr>\n",
       "    <tr>\n",
       "      <th>42748</th>\n",
       "      <td>False</td>\n",
       "      <td>NaN</td>\n",
       "      <td>0</td>\n",
       "      <td>[]</td>\n",
       "      <td>NaN</td>\n",
       "      <td>140530</td>\n",
       "      <td>tt0288217</td>\n",
       "      <td>ja</td>\n",
       "      <td>白薔薇学園　そして全員犯された</td>\n",
       "      <td>Three crazed rapists hijack a school bus and p...</td>\n",
       "      <td>...</td>\n",
       "      <td>[{'iso_639_1': 'ja', 'name': '日本語'}]</td>\n",
       "      <td>Released</td>\n",
       "      <td>NaN</td>\n",
       "      <td>White Rose Campus: Then... Everybody Gets Raped</td>\n",
       "      <td>False</td>\n",
       "      <td>4.7</td>\n",
       "      <td>3.0</td>\n",
       "      <td>1982.0</td>\n",
       "      <td>[Nami Misaki, Ayako Ota, Miki Yamaji]</td>\n",
       "      <td>[Kôyû Ohara]</td>\n",
       "    </tr>\n",
       "  </tbody>\n",
       "</table>\n",
       "<p>5 rows × 27 columns</p>\n",
       "</div>"
      ],
      "text/plain": [
       "       adult                              belongs_to_collection    budget  \\\n",
       "34810  False                                                NaN         0   \n",
       "8289   False                                                NaN  27000000   \n",
       "32087  False  {'id': 8647, 'name': 'The Skulls Collection', ...   3800000   \n",
       "13818  False                                                NaN         0   \n",
       "42748  False                                                NaN         0   \n",
       "\n",
       "                                    genres homepage      id    imdb_id  \\\n",
       "34810                                   []      NaN  132542  tt0095987   \n",
       "8289                      [Drama, Romance]      NaN    2288  tt0376541   \n",
       "32087  [Action, Comedy, Thriller, Romance]      NaN    8460  tt0278723   \n",
       "13818                             [Comedy]      NaN     761  tt0074103   \n",
       "42748                                   []      NaN  140530  tt0288217   \n",
       "\n",
       "      original_language       original_title  \\\n",
       "34810                en  The Return of Bruno   \n",
       "8289                 en               Closer   \n",
       "32087                en        The Skulls II   \n",
       "13818                fr  L'Aile ou la Cuisse   \n",
       "42748                ja      白薔薇学園　そして全員犯された   \n",
       "\n",
       "                                                overview  ...  \\\n",
       "34810  A \"documentary\" about the major influence that...  ...   \n",
       "8289   A witty, romantic, and very dangerous love sto...  ...   \n",
       "32087  After joining the Skulls, Ryan Sommers (Robin ...  ...   \n",
       "13818  Charles Duchemin, a well-known gourmet and pub...  ...   \n",
       "42748  Three crazed rapists hijack a school bus and p...  ...   \n",
       "\n",
       "                                spoken_languages    status  \\\n",
       "34810                                         []  Released   \n",
       "8289    [{'iso_639_1': 'en', 'name': 'English'}]  Released   \n",
       "32087   [{'iso_639_1': 'en', 'name': 'English'}]  Released   \n",
       "13818  [{'iso_639_1': 'fr', 'name': 'Français'}]  Released   \n",
       "42748       [{'iso_639_1': 'ja', 'name': '日本語'}]  Released   \n",
       "\n",
       "                                                 tagline  \\\n",
       "34810                                                NaN   \n",
       "8289   If you believe in love at first sight, you nev...   \n",
       "32087                                                NaN   \n",
       "13818                                                NaN   \n",
       "42748                                                NaN   \n",
       "\n",
       "                                                 title  video  vote_average  \\\n",
       "34810                              The Return of Bruno  False           4.7   \n",
       "8289                                            Closer  False           6.7   \n",
       "32087                                    The Skulls II  False           5.3   \n",
       "13818                            The Wing or the Thigh  False           6.8   \n",
       "42748  White Rose Campus: Then... Everybody Gets Raped  False           4.7   \n",
       "\n",
       "       vote_count    year                                        cast  \\\n",
       "34810         3.0  1987.0  [Bruce Willis, Michael J. Fox, Elton John]   \n",
       "8289        845.0  2004.0  [Julia Roberts, Jude Law, Natalie Portman]   \n",
       "32087        21.0  2002.0   [Robin Dunne, Nathan West, Ashley Tesoro]   \n",
       "13818       115.0  1976.0    [Louis de Funès, Coluche, Claude Gensac]   \n",
       "42748         3.0  1982.0       [Nami Misaki, Ayako Ota, Miki Yamaji]   \n",
       "\n",
       "                  crew  \n",
       "34810   [James Yukich]  \n",
       "8289    [Mike Nichols]  \n",
       "32087  [Joe Chappelle]  \n",
       "13818    [Claude Zidi]  \n",
       "42748     [Kôyû Ohara]  \n",
       "\n",
       "[5 rows x 27 columns]"
      ]
     },
     "execution_count": 59,
     "metadata": {},
     "output_type": "execute_result"
    }
   ],
   "source": [
    "comb.sample(5)"
   ]
  },
  {
   "cell_type": "code",
   "execution_count": 60,
   "id": "437ce099",
   "metadata": {},
   "outputs": [
    {
     "data": {
      "text/plain": [
       "adult                            object\n",
       "belongs_to_collection            object\n",
       "budget                           object\n",
       "genres                           object\n",
       "homepage                         object\n",
       "id                                int32\n",
       "imdb_id                          object\n",
       "original_language                object\n",
       "original_title                   object\n",
       "overview                         object\n",
       "popularity                      float64\n",
       "poster_path                      object\n",
       "production_companies             object\n",
       "production_countries             object\n",
       "release_date             datetime64[ns]\n",
       "revenue                         float64\n",
       "runtime                         float64\n",
       "spoken_languages                 object\n",
       "status                           object\n",
       "tagline                          object\n",
       "title                            object\n",
       "video                            object\n",
       "vote_average                    float64\n",
       "vote_count                      float64\n",
       "year                            float64\n",
       "cast                             object\n",
       "crew                             object\n",
       "dtype: object"
      ]
     },
     "execution_count": 60,
     "metadata": {},
     "output_type": "execute_result"
    }
   ],
   "source": [
    "comb.dtypes"
   ]
  },
  {
   "cell_type": "code",
   "execution_count": 61,
   "id": "d0a6fea6",
   "metadata": {},
   "outputs": [],
   "source": [
    "comb[['budget','vote_average','vote_count']] = comb[['budget','vote_average','vote_count']].astype(float)"
   ]
  },
  {
   "cell_type": "code",
   "execution_count": 62,
   "id": "0af02b9c",
   "metadata": {},
   "outputs": [],
   "source": [
    "# crew contains director's name\n",
    "comb['crew'] = comb['crew'].astype('str')"
   ]
  },
  {
   "cell_type": "code",
   "execution_count": 63,
   "id": "e3e31f24",
   "metadata": {
    "scrolled": true
   },
   "outputs": [
    {
     "data": {
      "text/plain": [
       "crew\n",
       "['Kyle Balda', 'Pierre Coffin']       292.059909\n",
       "['Chris Williams', 'Don Hall']        213.849907\n",
       "['Tim Miller']                        187.860492\n",
       "['Chad Stahelski', 'David Leitch']    183.870374\n",
       "['Patty Jenkins']                     150.763031\n",
       "                                         ...    \n",
       "['Joe Reese']                           0.000000\n",
       "['Joe Barber', 'Mary Patel']            0.000000\n",
       "['Carlo Ausino']                        0.000000\n",
       "['José Luis Sepúlveda']                 0.000000\n",
       "['Lawrence Gordon Clark']                    NaN\n",
       "Name: popularity, Length: 18854, dtype: float64"
      ]
     },
     "execution_count": 63,
     "metadata": {},
     "output_type": "execute_result"
    }
   ],
   "source": [
    "# Average popularity of movies For Each Director\n",
    "comb.groupby('crew')['popularity'].mean().sort_values(ascending=False)"
   ]
  },
  {
   "cell_type": "code",
   "execution_count": 64,
   "id": "38ec1530",
   "metadata": {
    "scrolled": true
   },
   "outputs": [
    {
     "data": {
      "text/html": [
       "<div>\n",
       "<style scoped>\n",
       "    .dataframe tbody tr th:only-of-type {\n",
       "        vertical-align: middle;\n",
       "    }\n",
       "\n",
       "    .dataframe tbody tr th {\n",
       "        vertical-align: top;\n",
       "    }\n",
       "\n",
       "    .dataframe thead th {\n",
       "        text-align: right;\n",
       "    }\n",
       "</style>\n",
       "<table border=\"1\" class=\"dataframe\">\n",
       "  <thead>\n",
       "    <tr style=\"text-align: right;\">\n",
       "      <th></th>\n",
       "      <th>popularity</th>\n",
       "      <th>crew</th>\n",
       "    </tr>\n",
       "    <tr>\n",
       "      <th>title</th>\n",
       "      <th></th>\n",
       "      <th></th>\n",
       "    </tr>\n",
       "  </thead>\n",
       "  <tbody>\n",
       "    <tr>\n",
       "      <th>Minions</th>\n",
       "      <td>547.488298</td>\n",
       "      <td>['Kyle Balda', 'Pierre Coffin']</td>\n",
       "    </tr>\n",
       "    <tr>\n",
       "      <th>Wonder Woman</th>\n",
       "      <td>294.337037</td>\n",
       "      <td>['Patty Jenkins']</td>\n",
       "    </tr>\n",
       "    <tr>\n",
       "      <th>Beauty and the Beast</th>\n",
       "      <td>287.253654</td>\n",
       "      <td>['Bill Condon']</td>\n",
       "    </tr>\n",
       "    <tr>\n",
       "      <th>Baby Driver</th>\n",
       "      <td>228.032744</td>\n",
       "      <td>['Edgar Wright']</td>\n",
       "    </tr>\n",
       "    <tr>\n",
       "      <th>Big Hero 6</th>\n",
       "      <td>213.849907</td>\n",
       "      <td>['Chris Williams', 'Don Hall']</td>\n",
       "    </tr>\n",
       "    <tr>\n",
       "      <th>Deadpool</th>\n",
       "      <td>187.860492</td>\n",
       "      <td>['Tim Miller']</td>\n",
       "    </tr>\n",
       "    <tr>\n",
       "      <th>Guardians of the Galaxy Vol. 2</th>\n",
       "      <td>185.330992</td>\n",
       "      <td>['James Gunn']</td>\n",
       "    </tr>\n",
       "    <tr>\n",
       "      <th>Avatar</th>\n",
       "      <td>185.070892</td>\n",
       "      <td>['James Cameron']</td>\n",
       "    </tr>\n",
       "    <tr>\n",
       "      <th>John Wick</th>\n",
       "      <td>183.870374</td>\n",
       "      <td>['Chad Stahelski', 'David Leitch']</td>\n",
       "    </tr>\n",
       "    <tr>\n",
       "      <th>Gone Girl</th>\n",
       "      <td>154.801009</td>\n",
       "      <td>['David Fincher']</td>\n",
       "    </tr>\n",
       "  </tbody>\n",
       "</table>\n",
       "</div>"
      ],
      "text/plain": [
       "                                popularity                                crew\n",
       "title                                                                         \n",
       "Minions                         547.488298     ['Kyle Balda', 'Pierre Coffin']\n",
       "Wonder Woman                    294.337037                   ['Patty Jenkins']\n",
       "Beauty and the Beast            287.253654                     ['Bill Condon']\n",
       "Baby Driver                     228.032744                    ['Edgar Wright']\n",
       "Big Hero 6                      213.849907      ['Chris Williams', 'Don Hall']\n",
       "Deadpool                        187.860492                      ['Tim Miller']\n",
       "Guardians of the Galaxy Vol. 2  185.330992                      ['James Gunn']\n",
       "Avatar                          185.070892                   ['James Cameron']\n",
       "John Wick                       183.870374  ['Chad Stahelski', 'David Leitch']\n",
       "Gone Girl                       154.801009                   ['David Fincher']"
      ]
     },
     "execution_count": 64,
     "metadata": {},
     "output_type": "execute_result"
    }
   ],
   "source": [
    "# Top 10 popular Movie Titles And its Directors\n",
    "top = comb.nlargest(10,'popularity')[['title','popularity','crew']].set_index('title')\n",
    "top"
   ]
  },
  {
   "cell_type": "code",
   "execution_count": 65,
   "id": "07a3aeab",
   "metadata": {},
   "outputs": [
    {
     "data": {
      "image/png": "[encoded data removed]",
      "text/plain": [
       "<Figure size 432x288 with 1 Axes>"
      ]
     },
     "metadata": {
      "needs_background": "light"
     },
     "output_type": "display_data"
    }
   ],
   "source": [
    "sns.scatterplot(x='popularity',y='revenue',data=comb)\n",
    "plt.title('Scatterplot between Popularity and Revenue')\n",
    "plt.show()"
   ]
  },
  {
   "cell_type": "code",
   "execution_count": 66,
   "id": "1e29f70c",
   "metadata": {},
   "outputs": [
    {
     "data": {
      "image/png": "[encoded data removed]",
      "text/plain": [
       "<Figure size 432x288 with 1 Axes>"
      ]
     },
     "metadata": {
      "needs_background": "light"
     },
     "output_type": "display_data"
    }
   ],
   "source": [
    "sns.scatterplot(x='vote_average',y='revenue',data=comb)\n",
    "plt.title('Scatterplot between Vote_Average and Revenue')\n",
    "plt.show()"
   ]
  },
  {
   "cell_type": "code",
   "execution_count": null,
   "id": "ba414690",
   "metadata": {},
   "outputs": [],
   "source": []
  }
 ],
 "metadata": {
  "kernelspec": {
   "display_name": "Python 3 (ipykernel)",
   "language": "python",
   "name": "python3"
  },
  "language_info": {
   "codemirror_mode": {
    "name": "ipython",
    "version": 3
   },
   "file_extension": ".py",
   "mimetype": "text/x-python",
   "name": "python",
   "nbconvert_exporter": "python",
   "pygments_lexer": "ipython3",
   "version": "3.9.12"
  }
 },
 "nbformat": 4,
 "nbformat_minor": 5
}
